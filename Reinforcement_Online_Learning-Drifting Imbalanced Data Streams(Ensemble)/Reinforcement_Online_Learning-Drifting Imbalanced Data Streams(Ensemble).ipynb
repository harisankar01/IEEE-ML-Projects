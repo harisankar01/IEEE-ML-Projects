{
  "cells": [
    {
      "cell_type": "code",
      "execution_count": null,
      "metadata": {
        "colab": {
          "base_uri": "https://localhost:8080/",
          "height": 345
        },
        "id": "Vdwqft5QnKjW",
        "outputId": "ac927465-4c19-43c7-eed1-940e906d7665"
      },
      "outputs": [
        {
          "ename": "FileNotFoundError",
          "evalue": "ignored",
          "output_type": "error",
          "traceback": [
            "\u001b[0;31m---------------------------------------------------------------------------\u001b[0m",
            "\u001b[0;31mFileNotFoundError\u001b[0m                         Traceback (most recent call last)",
            "\u001b[0;32m<ipython-input-1-c1a61b32d404>\u001b[0m in \u001b[0;36m<module>\u001b[0;34m\u001b[0m\n\u001b[1;32m      3\u001b[0m \u001b[0;32mimport\u001b[0m \u001b[0mnumpy\u001b[0m \u001b[0;32mas\u001b[0m \u001b[0mnp\u001b[0m\u001b[0;34m\u001b[0m\u001b[0;34m\u001b[0m\u001b[0m\n\u001b[1;32m      4\u001b[0m \u001b[0;31m#importing the required file\u001b[0m\u001b[0;34m\u001b[0m\u001b[0;34m\u001b[0m\u001b[0;34m\u001b[0m\u001b[0m\n\u001b[0;32m----> 5\u001b[0;31m \u001b[0mtrain_def\u001b[0m\u001b[0;34m=\u001b[0m \u001b[0mpd\u001b[0m\u001b[0;34m.\u001b[0m\u001b[0mread_csv\u001b[0m\u001b[0;34m(\u001b[0m\u001b[0;34m\"./kddcup (1).csv\"\u001b[0m\u001b[0;34m,\u001b[0m \u001b[0mindex_col\u001b[0m\u001b[0;34m=\u001b[0m\u001b[0;36m0\u001b[0m\u001b[0;34m)\u001b[0m\u001b[0;34m\u001b[0m\u001b[0;34m\u001b[0m\u001b[0m\n\u001b[0m",
            "\u001b[0;32m/usr/local/lib/python3.8/dist-packages/pandas/util/_decorators.py\u001b[0m in \u001b[0;36mwrapper\u001b[0;34m(*args, **kwargs)\u001b[0m\n\u001b[1;32m    309\u001b[0m                     \u001b[0mstacklevel\u001b[0m\u001b[0;34m=\u001b[0m\u001b[0mstacklevel\u001b[0m\u001b[0;34m,\u001b[0m\u001b[0;34m\u001b[0m\u001b[0;34m\u001b[0m\u001b[0m\n\u001b[1;32m    310\u001b[0m                 )\n\u001b[0;32m--> 311\u001b[0;31m             \u001b[0;32mreturn\u001b[0m \u001b[0mfunc\u001b[0m\u001b[0;34m(\u001b[0m\u001b[0;34m*\u001b[0m\u001b[0margs\u001b[0m\u001b[0;34m,\u001b[0m \u001b[0;34m**\u001b[0m\u001b[0mkwargs\u001b[0m\u001b[0;34m)\u001b[0m\u001b[0;34m\u001b[0m\u001b[0;34m\u001b[0m\u001b[0m\n\u001b[0m\u001b[1;32m    312\u001b[0m \u001b[0;34m\u001b[0m\u001b[0m\n\u001b[1;32m    313\u001b[0m         \u001b[0;32mreturn\u001b[0m \u001b[0mwrapper\u001b[0m\u001b[0;34m\u001b[0m\u001b[0;34m\u001b[0m\u001b[0m\n",
            "\u001b[0;32m/usr/local/lib/python3.8/dist-packages/pandas/io/parsers/readers.py\u001b[0m in \u001b[0;36mread_csv\u001b[0;34m(filepath_or_buffer, sep, delimiter, header, names, index_col, usecols, squeeze, prefix, mangle_dupe_cols, dtype, engine, converters, true_values, false_values, skipinitialspace, skiprows, skipfooter, nrows, na_values, keep_default_na, na_filter, verbose, skip_blank_lines, parse_dates, infer_datetime_format, keep_date_col, date_parser, dayfirst, cache_dates, iterator, chunksize, compression, thousands, decimal, lineterminator, quotechar, quoting, doublequote, escapechar, comment, encoding, encoding_errors, dialect, error_bad_lines, warn_bad_lines, on_bad_lines, delim_whitespace, low_memory, memory_map, float_precision, storage_options)\u001b[0m\n\u001b[1;32m    584\u001b[0m     \u001b[0mkwds\u001b[0m\u001b[0;34m.\u001b[0m\u001b[0mupdate\u001b[0m\u001b[0;34m(\u001b[0m\u001b[0mkwds_defaults\u001b[0m\u001b[0;34m)\u001b[0m\u001b[0;34m\u001b[0m\u001b[0;34m\u001b[0m\u001b[0m\n\u001b[1;32m    585\u001b[0m \u001b[0;34m\u001b[0m\u001b[0m\n\u001b[0;32m--> 586\u001b[0;31m     \u001b[0;32mreturn\u001b[0m \u001b[0m_read\u001b[0m\u001b[0;34m(\u001b[0m\u001b[0mfilepath_or_buffer\u001b[0m\u001b[0;34m,\u001b[0m \u001b[0mkwds\u001b[0m\u001b[0;34m)\u001b[0m\u001b[0;34m\u001b[0m\u001b[0;34m\u001b[0m\u001b[0m\n\u001b[0m\u001b[1;32m    587\u001b[0m \u001b[0;34m\u001b[0m\u001b[0m\n\u001b[1;32m    588\u001b[0m \u001b[0;34m\u001b[0m\u001b[0m\n",
            "\u001b[0;32m/usr/local/lib/python3.8/dist-packages/pandas/io/parsers/readers.py\u001b[0m in \u001b[0;36m_read\u001b[0;34m(filepath_or_buffer, kwds)\u001b[0m\n\u001b[1;32m    480\u001b[0m \u001b[0;34m\u001b[0m\u001b[0m\n\u001b[1;32m    481\u001b[0m     \u001b[0;31m# Create the parser.\u001b[0m\u001b[0;34m\u001b[0m\u001b[0;34m\u001b[0m\u001b[0;34m\u001b[0m\u001b[0m\n\u001b[0;32m--> 482\u001b[0;31m     \u001b[0mparser\u001b[0m \u001b[0;34m=\u001b[0m \u001b[0mTextFileReader\u001b[0m\u001b[0;34m(\u001b[0m\u001b[0mfilepath_or_buffer\u001b[0m\u001b[0;34m,\u001b[0m \u001b[0;34m**\u001b[0m\u001b[0mkwds\u001b[0m\u001b[0;34m)\u001b[0m\u001b[0;34m\u001b[0m\u001b[0;34m\u001b[0m\u001b[0m\n\u001b[0m\u001b[1;32m    483\u001b[0m \u001b[0;34m\u001b[0m\u001b[0m\n\u001b[1;32m    484\u001b[0m     \u001b[0;32mif\u001b[0m \u001b[0mchunksize\u001b[0m \u001b[0;32mor\u001b[0m \u001b[0miterator\u001b[0m\u001b[0;34m:\u001b[0m\u001b[0;34m\u001b[0m\u001b[0;34m\u001b[0m\u001b[0m\n",
            "\u001b[0;32m/usr/local/lib/python3.8/dist-packages/pandas/io/parsers/readers.py\u001b[0m in \u001b[0;36m__init__\u001b[0;34m(self, f, engine, **kwds)\u001b[0m\n\u001b[1;32m    809\u001b[0m             \u001b[0mself\u001b[0m\u001b[0;34m.\u001b[0m\u001b[0moptions\u001b[0m\u001b[0;34m[\u001b[0m\u001b[0;34m\"has_index_names\"\u001b[0m\u001b[0;34m]\u001b[0m \u001b[0;34m=\u001b[0m \u001b[0mkwds\u001b[0m\u001b[0;34m[\u001b[0m\u001b[0;34m\"has_index_names\"\u001b[0m\u001b[0;34m]\u001b[0m\u001b[0;34m\u001b[0m\u001b[0;34m\u001b[0m\u001b[0m\n\u001b[1;32m    810\u001b[0m \u001b[0;34m\u001b[0m\u001b[0m\n\u001b[0;32m--> 811\u001b[0;31m         \u001b[0mself\u001b[0m\u001b[0;34m.\u001b[0m\u001b[0m_engine\u001b[0m \u001b[0;34m=\u001b[0m \u001b[0mself\u001b[0m\u001b[0;34m.\u001b[0m\u001b[0m_make_engine\u001b[0m\u001b[0;34m(\u001b[0m\u001b[0mself\u001b[0m\u001b[0;34m.\u001b[0m\u001b[0mengine\u001b[0m\u001b[0;34m)\u001b[0m\u001b[0;34m\u001b[0m\u001b[0;34m\u001b[0m\u001b[0m\n\u001b[0m\u001b[1;32m    812\u001b[0m \u001b[0;34m\u001b[0m\u001b[0m\n\u001b[1;32m    813\u001b[0m     \u001b[0;32mdef\u001b[0m \u001b[0mclose\u001b[0m\u001b[0;34m(\u001b[0m\u001b[0mself\u001b[0m\u001b[0;34m)\u001b[0m\u001b[0;34m:\u001b[0m\u001b[0;34m\u001b[0m\u001b[0;34m\u001b[0m\u001b[0m\n",
            "\u001b[0;32m/usr/local/lib/python3.8/dist-packages/pandas/io/parsers/readers.py\u001b[0m in \u001b[0;36m_make_engine\u001b[0;34m(self, engine)\u001b[0m\n\u001b[1;32m   1038\u001b[0m             )\n\u001b[1;32m   1039\u001b[0m         \u001b[0;31m# error: Too many arguments for \"ParserBase\"\u001b[0m\u001b[0;34m\u001b[0m\u001b[0;34m\u001b[0m\u001b[0;34m\u001b[0m\u001b[0m\n\u001b[0;32m-> 1040\u001b[0;31m         \u001b[0;32mreturn\u001b[0m \u001b[0mmapping\u001b[0m\u001b[0;34m[\u001b[0m\u001b[0mengine\u001b[0m\u001b[0;34m]\u001b[0m\u001b[0;34m(\u001b[0m\u001b[0mself\u001b[0m\u001b[0;34m.\u001b[0m\u001b[0mf\u001b[0m\u001b[0;34m,\u001b[0m \u001b[0;34m**\u001b[0m\u001b[0mself\u001b[0m\u001b[0;34m.\u001b[0m\u001b[0moptions\u001b[0m\u001b[0;34m)\u001b[0m  \u001b[0;31m# type: ignore[call-arg]\u001b[0m\u001b[0;34m\u001b[0m\u001b[0;34m\u001b[0m\u001b[0m\n\u001b[0m\u001b[1;32m   1041\u001b[0m \u001b[0;34m\u001b[0m\u001b[0m\n\u001b[1;32m   1042\u001b[0m     \u001b[0;32mdef\u001b[0m \u001b[0m_failover_to_python\u001b[0m\u001b[0;34m(\u001b[0m\u001b[0mself\u001b[0m\u001b[0;34m)\u001b[0m\u001b[0;34m:\u001b[0m\u001b[0;34m\u001b[0m\u001b[0;34m\u001b[0m\u001b[0m\n",
            "\u001b[0;32m/usr/local/lib/python3.8/dist-packages/pandas/io/parsers/c_parser_wrapper.py\u001b[0m in \u001b[0;36m__init__\u001b[0;34m(self, src, **kwds)\u001b[0m\n\u001b[1;32m     49\u001b[0m \u001b[0;34m\u001b[0m\u001b[0m\n\u001b[1;32m     50\u001b[0m         \u001b[0;31m# open handles\u001b[0m\u001b[0;34m\u001b[0m\u001b[0;34m\u001b[0m\u001b[0;34m\u001b[0m\u001b[0m\n\u001b[0;32m---> 51\u001b[0;31m         \u001b[0mself\u001b[0m\u001b[0;34m.\u001b[0m\u001b[0m_open_handles\u001b[0m\u001b[0;34m(\u001b[0m\u001b[0msrc\u001b[0m\u001b[0;34m,\u001b[0m \u001b[0mkwds\u001b[0m\u001b[0;34m)\u001b[0m\u001b[0;34m\u001b[0m\u001b[0;34m\u001b[0m\u001b[0m\n\u001b[0m\u001b[1;32m     52\u001b[0m         \u001b[0;32massert\u001b[0m \u001b[0mself\u001b[0m\u001b[0;34m.\u001b[0m\u001b[0mhandles\u001b[0m \u001b[0;32mis\u001b[0m \u001b[0;32mnot\u001b[0m \u001b[0;32mNone\u001b[0m\u001b[0;34m\u001b[0m\u001b[0;34m\u001b[0m\u001b[0m\n\u001b[1;32m     53\u001b[0m \u001b[0;34m\u001b[0m\u001b[0m\n",
            "\u001b[0;32m/usr/local/lib/python3.8/dist-packages/pandas/io/parsers/base_parser.py\u001b[0m in \u001b[0;36m_open_handles\u001b[0;34m(self, src, kwds)\u001b[0m\n\u001b[1;32m    220\u001b[0m         \u001b[0mLet\u001b[0m \u001b[0mthe\u001b[0m \u001b[0mreaders\u001b[0m \u001b[0mopen\u001b[0m \u001b[0mIOHandles\u001b[0m \u001b[0mafter\u001b[0m \u001b[0mthey\u001b[0m \u001b[0mare\u001b[0m \u001b[0mdone\u001b[0m \u001b[0;32mwith\u001b[0m \u001b[0mtheir\u001b[0m \u001b[0mpotential\u001b[0m \u001b[0mraises\u001b[0m\u001b[0;34m.\u001b[0m\u001b[0;34m\u001b[0m\u001b[0;34m\u001b[0m\u001b[0m\n\u001b[1;32m    221\u001b[0m         \"\"\"\n\u001b[0;32m--> 222\u001b[0;31m         self.handles = get_handle(\n\u001b[0m\u001b[1;32m    223\u001b[0m             \u001b[0msrc\u001b[0m\u001b[0;34m,\u001b[0m\u001b[0;34m\u001b[0m\u001b[0;34m\u001b[0m\u001b[0m\n\u001b[1;32m    224\u001b[0m             \u001b[0;34m\"r\"\u001b[0m\u001b[0;34m,\u001b[0m\u001b[0;34m\u001b[0m\u001b[0;34m\u001b[0m\u001b[0m\n",
            "\u001b[0;32m/usr/local/lib/python3.8/dist-packages/pandas/io/common.py\u001b[0m in \u001b[0;36mget_handle\u001b[0;34m(path_or_buf, mode, encoding, compression, memory_map, is_text, errors, storage_options)\u001b[0m\n\u001b[1;32m    700\u001b[0m         \u001b[0;32mif\u001b[0m \u001b[0mioargs\u001b[0m\u001b[0;34m.\u001b[0m\u001b[0mencoding\u001b[0m \u001b[0;32mand\u001b[0m \u001b[0;34m\"b\"\u001b[0m \u001b[0;32mnot\u001b[0m \u001b[0;32min\u001b[0m \u001b[0mioargs\u001b[0m\u001b[0;34m.\u001b[0m\u001b[0mmode\u001b[0m\u001b[0;34m:\u001b[0m\u001b[0;34m\u001b[0m\u001b[0;34m\u001b[0m\u001b[0m\n\u001b[1;32m    701\u001b[0m             \u001b[0;31m# Encoding\u001b[0m\u001b[0;34m\u001b[0m\u001b[0;34m\u001b[0m\u001b[0;34m\u001b[0m\u001b[0m\n\u001b[0;32m--> 702\u001b[0;31m             handle = open(\n\u001b[0m\u001b[1;32m    703\u001b[0m                 \u001b[0mhandle\u001b[0m\u001b[0;34m,\u001b[0m\u001b[0;34m\u001b[0m\u001b[0;34m\u001b[0m\u001b[0m\n\u001b[1;32m    704\u001b[0m                 \u001b[0mioargs\u001b[0m\u001b[0;34m.\u001b[0m\u001b[0mmode\u001b[0m\u001b[0;34m,\u001b[0m\u001b[0;34m\u001b[0m\u001b[0;34m\u001b[0m\u001b[0m\n",
            "\u001b[0;31mFileNotFoundError\u001b[0m: [Errno 2] No such file or directory: './kddcup (1).csv'"
          ]
        }
      ],
      "source": [
        "  #python package\n",
        "import pandas as pd\n",
        "import numpy as np\n",
        "#importing the required file\n",
        "train_def= pd.read_csv(\"./kddcup.csv\", index_col=0)"
      ]
    },
    {
      "cell_type": "code",
      "execution_count": null,
      "metadata": {
        "colab": {
          "base_uri": "https://localhost:8080/",
          "height": 328
        },
        "id": "NpMtM27qtGMt",
        "outputId": "e7edd7ca-aaf9-426c-eaac-ba0e09048a6d"
      },
      "outputs": [
        {
          "ename": "MessageError",
          "evalue": "ignored",
          "output_type": "error",
          "traceback": [
            "\u001b[0;31m---------------------------------------------------------------------------\u001b[0m",
            "\u001b[0;31mMessageError\u001b[0m                              Traceback (most recent call last)",
            "\u001b[0;32m<ipython-input-2-d5df0069828e>\u001b[0m in \u001b[0;36m<module>\u001b[0;34m\u001b[0m\n\u001b[1;32m      1\u001b[0m \u001b[0;32mfrom\u001b[0m \u001b[0mgoogle\u001b[0m\u001b[0;34m.\u001b[0m\u001b[0mcolab\u001b[0m \u001b[0;32mimport\u001b[0m \u001b[0mdrive\u001b[0m\u001b[0;34m\u001b[0m\u001b[0;34m\u001b[0m\u001b[0m\n\u001b[0;32m----> 2\u001b[0;31m \u001b[0mdrive\u001b[0m\u001b[0;34m.\u001b[0m\u001b[0mmount\u001b[0m\u001b[0;34m(\u001b[0m\u001b[0;34m'/content/drive'\u001b[0m\u001b[0;34m)\u001b[0m\u001b[0;34m\u001b[0m\u001b[0;34m\u001b[0m\u001b[0m\n\u001b[0m",
            "\u001b[0;32m/usr/local/lib/python3.8/dist-packages/google/colab/drive.py\u001b[0m in \u001b[0;36mmount\u001b[0;34m(mountpoint, force_remount, timeout_ms, readonly)\u001b[0m\n\u001b[1;32m     99\u001b[0m \u001b[0;32mdef\u001b[0m \u001b[0mmount\u001b[0m\u001b[0;34m(\u001b[0m\u001b[0mmountpoint\u001b[0m\u001b[0;34m,\u001b[0m \u001b[0mforce_remount\u001b[0m\u001b[0;34m=\u001b[0m\u001b[0;32mFalse\u001b[0m\u001b[0;34m,\u001b[0m \u001b[0mtimeout_ms\u001b[0m\u001b[0;34m=\u001b[0m\u001b[0;36m120000\u001b[0m\u001b[0;34m,\u001b[0m \u001b[0mreadonly\u001b[0m\u001b[0;34m=\u001b[0m\u001b[0;32mFalse\u001b[0m\u001b[0;34m)\u001b[0m\u001b[0;34m:\u001b[0m\u001b[0;34m\u001b[0m\u001b[0;34m\u001b[0m\u001b[0m\n\u001b[1;32m    100\u001b[0m   \u001b[0;34m\"\"\"Mount your Google Drive at the specified mountpoint path.\"\"\"\u001b[0m\u001b[0;34m\u001b[0m\u001b[0;34m\u001b[0m\u001b[0m\n\u001b[0;32m--> 101\u001b[0;31m   return _mount(\n\u001b[0m\u001b[1;32m    102\u001b[0m       \u001b[0mmountpoint\u001b[0m\u001b[0;34m,\u001b[0m\u001b[0;34m\u001b[0m\u001b[0;34m\u001b[0m\u001b[0m\n\u001b[1;32m    103\u001b[0m       \u001b[0mforce_remount\u001b[0m\u001b[0;34m=\u001b[0m\u001b[0mforce_remount\u001b[0m\u001b[0;34m,\u001b[0m\u001b[0;34m\u001b[0m\u001b[0;34m\u001b[0m\u001b[0m\n",
            "\u001b[0;32m/usr/local/lib/python3.8/dist-packages/google/colab/drive.py\u001b[0m in \u001b[0;36m_mount\u001b[0;34m(mountpoint, force_remount, timeout_ms, ephemeral, readonly)\u001b[0m\n\u001b[1;32m    122\u001b[0m       'TBE_EPHEM_CREDS_ADDR'] if ephemeral else _os.environ['TBE_CREDS_ADDR']\n\u001b[1;32m    123\u001b[0m   \u001b[0;32mif\u001b[0m \u001b[0mephemeral\u001b[0m\u001b[0;34m:\u001b[0m\u001b[0;34m\u001b[0m\u001b[0;34m\u001b[0m\u001b[0m\n\u001b[0;32m--> 124\u001b[0;31m     _message.blocking_request(\n\u001b[0m\u001b[1;32m    125\u001b[0m         'request_auth', request={'authType': 'dfs_ephemeral'}, timeout_sec=None)\n\u001b[1;32m    126\u001b[0m \u001b[0;34m\u001b[0m\u001b[0m\n",
            "\u001b[0;32m/usr/local/lib/python3.8/dist-packages/google/colab/_message.py\u001b[0m in \u001b[0;36mblocking_request\u001b[0;34m(request_type, request, timeout_sec, parent)\u001b[0m\n\u001b[1;32m    169\u001b[0m   request_id = send_request(\n\u001b[1;32m    170\u001b[0m       request_type, request, parent=parent, expect_reply=True)\n\u001b[0;32m--> 171\u001b[0;31m   \u001b[0;32mreturn\u001b[0m \u001b[0mread_reply_from_input\u001b[0m\u001b[0;34m(\u001b[0m\u001b[0mrequest_id\u001b[0m\u001b[0;34m,\u001b[0m \u001b[0mtimeout_sec\u001b[0m\u001b[0;34m)\u001b[0m\u001b[0;34m\u001b[0m\u001b[0;34m\u001b[0m\u001b[0m\n\u001b[0m",
            "\u001b[0;32m/usr/local/lib/python3.8/dist-packages/google/colab/_message.py\u001b[0m in \u001b[0;36mread_reply_from_input\u001b[0;34m(message_id, timeout_sec)\u001b[0m\n\u001b[1;32m    100\u001b[0m         reply.get('colab_msg_id') == message_id):\n\u001b[1;32m    101\u001b[0m       \u001b[0;32mif\u001b[0m \u001b[0;34m'error'\u001b[0m \u001b[0;32min\u001b[0m \u001b[0mreply\u001b[0m\u001b[0;34m:\u001b[0m\u001b[0;34m\u001b[0m\u001b[0;34m\u001b[0m\u001b[0m\n\u001b[0;32m--> 102\u001b[0;31m         \u001b[0;32mraise\u001b[0m \u001b[0mMessageError\u001b[0m\u001b[0;34m(\u001b[0m\u001b[0mreply\u001b[0m\u001b[0;34m[\u001b[0m\u001b[0;34m'error'\u001b[0m\u001b[0;34m]\u001b[0m\u001b[0;34m)\u001b[0m\u001b[0;34m\u001b[0m\u001b[0;34m\u001b[0m\u001b[0m\n\u001b[0m\u001b[1;32m    103\u001b[0m       \u001b[0;32mreturn\u001b[0m \u001b[0mreply\u001b[0m\u001b[0;34m.\u001b[0m\u001b[0mget\u001b[0m\u001b[0;34m(\u001b[0m\u001b[0;34m'data'\u001b[0m\u001b[0;34m,\u001b[0m \u001b[0;32mNone\u001b[0m\u001b[0;34m)\u001b[0m\u001b[0;34m\u001b[0m\u001b[0;34m\u001b[0m\u001b[0m\n\u001b[1;32m    104\u001b[0m \u001b[0;34m\u001b[0m\u001b[0m\n",
            "\u001b[0;31mMessageError\u001b[0m: Error: credential propagation was unsuccessful"
          ]
        }
      ],
      "source": [
        "from google.colab import drive\n",
        "drive.mount('/content/drive')"
      ]
    },
    {
      "cell_type": "code",
      "execution_count": null,
      "metadata": {
        "colab": {
          "base_uri": "https://localhost:8080/",
          "height": 331
        },
        "id": "uLe9eRcpue1N",
        "outputId": "1278a5ea-ca4d-4027-ad71-a84d3e918847"
      },
      "outputs": [
        {
          "data": {
            "text/html": [
              "\n",
              "  <div id=\"df-72c4e368-234e-4260-b27f-c2f719a4b1e5\">\n",
              "    <div class=\"colab-df-container\">\n",
              "      <div>\n",
              "<style scoped>\n",
              "    .dataframe tbody tr th:only-of-type {\n",
              "        vertical-align: middle;\n",
              "    }\n",
              "\n",
              "    .dataframe tbody tr th {\n",
              "        vertical-align: top;\n",
              "    }\n",
              "\n",
              "    .dataframe thead th {\n",
              "        text-align: right;\n",
              "    }\n",
              "</style>\n",
              "<table border=\"1\" class=\"dataframe\">\n",
              "  <thead>\n",
              "    <tr style=\"text-align: right;\">\n",
              "      <th></th>\n",
              "      <th>Protocol</th>\n",
              "      <th>Service</th>\n",
              "      <th>Flag</th>\n",
              "      <th>src_bytes</th>\n",
              "      <th>dst_bytes</th>\n",
              "      <th>Land</th>\n",
              "      <th>Wrong_fragment</th>\n",
              "      <th>Urgent</th>\n",
              "      <th>Hot</th>\n",
              "      <th>num_failed_logins</th>\n",
              "      <th>...</th>\n",
              "      <th>dst_host_count</th>\n",
              "      <th>dst_host_srv_count</th>\n",
              "      <th>dst_host_same_srv_rate</th>\n",
              "      <th>dst_host_diff_srv_rate</th>\n",
              "      <th>dst_host_same_src_port_rate</th>\n",
              "      <th>dst_host_srv_diff_host_rate</th>\n",
              "      <th>dst_host_serror_rate</th>\n",
              "      <th>dst_host_srv_serror_rate</th>\n",
              "      <th>dst_host_rerror_rate</th>\n",
              "      <th>dst_host_srv_rerror_rate</th>\n",
              "    </tr>\n",
              "    <tr>\n",
              "      <th>Duration</th>\n",
              "      <th></th>\n",
              "      <th></th>\n",
              "      <th></th>\n",
              "      <th></th>\n",
              "      <th></th>\n",
              "      <th></th>\n",
              "      <th></th>\n",
              "      <th></th>\n",
              "      <th></th>\n",
              "      <th></th>\n",
              "      <th></th>\n",
              "      <th></th>\n",
              "      <th></th>\n",
              "      <th></th>\n",
              "      <th></th>\n",
              "      <th></th>\n",
              "      <th></th>\n",
              "      <th></th>\n",
              "      <th></th>\n",
              "      <th></th>\n",
              "      <th></th>\n",
              "    </tr>\n",
              "  </thead>\n",
              "  <tbody>\n",
              "    <tr>\n",
              "      <th>0</th>\n",
              "      <td>0</td>\n",
              "      <td>1</td>\n",
              "      <td>0</td>\n",
              "      <td>162</td>\n",
              "      <td>4528</td>\n",
              "      <td>0</td>\n",
              "      <td>0</td>\n",
              "      <td>0</td>\n",
              "      <td>0</td>\n",
              "      <td>0</td>\n",
              "      <td>...</td>\n",
              "      <td>1</td>\n",
              "      <td>1</td>\n",
              "      <td>1.0</td>\n",
              "      <td>0.0</td>\n",
              "      <td>1.00</td>\n",
              "      <td>0.0</td>\n",
              "      <td>0.0</td>\n",
              "      <td>0.0</td>\n",
              "      <td>0.0</td>\n",
              "      <td>0.0</td>\n",
              "    </tr>\n",
              "    <tr>\n",
              "      <th>0</th>\n",
              "      <td>0</td>\n",
              "      <td>1</td>\n",
              "      <td>0</td>\n",
              "      <td>236</td>\n",
              "      <td>1228</td>\n",
              "      <td>0</td>\n",
              "      <td>0</td>\n",
              "      <td>0</td>\n",
              "      <td>0</td>\n",
              "      <td>0</td>\n",
              "      <td>...</td>\n",
              "      <td>2</td>\n",
              "      <td>2</td>\n",
              "      <td>1.0</td>\n",
              "      <td>0.0</td>\n",
              "      <td>0.50</td>\n",
              "      <td>0.0</td>\n",
              "      <td>0.0</td>\n",
              "      <td>0.0</td>\n",
              "      <td>0.0</td>\n",
              "      <td>0.0</td>\n",
              "    </tr>\n",
              "    <tr>\n",
              "      <th>0</th>\n",
              "      <td>0</td>\n",
              "      <td>1</td>\n",
              "      <td>0</td>\n",
              "      <td>233</td>\n",
              "      <td>2032</td>\n",
              "      <td>0</td>\n",
              "      <td>0</td>\n",
              "      <td>0</td>\n",
              "      <td>0</td>\n",
              "      <td>0</td>\n",
              "      <td>...</td>\n",
              "      <td>3</td>\n",
              "      <td>3</td>\n",
              "      <td>1.0</td>\n",
              "      <td>0.0</td>\n",
              "      <td>0.33</td>\n",
              "      <td>0.0</td>\n",
              "      <td>0.0</td>\n",
              "      <td>0.0</td>\n",
              "      <td>0.0</td>\n",
              "      <td>0.0</td>\n",
              "    </tr>\n",
              "    <tr>\n",
              "      <th>0</th>\n",
              "      <td>0</td>\n",
              "      <td>1</td>\n",
              "      <td>0</td>\n",
              "      <td>239</td>\n",
              "      <td>486</td>\n",
              "      <td>0</td>\n",
              "      <td>0</td>\n",
              "      <td>0</td>\n",
              "      <td>0</td>\n",
              "      <td>0</td>\n",
              "      <td>...</td>\n",
              "      <td>4</td>\n",
              "      <td>4</td>\n",
              "      <td>1.0</td>\n",
              "      <td>0.0</td>\n",
              "      <td>0.25</td>\n",
              "      <td>0.0</td>\n",
              "      <td>0.0</td>\n",
              "      <td>0.0</td>\n",
              "      <td>0.0</td>\n",
              "      <td>0.0</td>\n",
              "    </tr>\n",
              "    <tr>\n",
              "      <th>0</th>\n",
              "      <td>0</td>\n",
              "      <td>1</td>\n",
              "      <td>0</td>\n",
              "      <td>238</td>\n",
              "      <td>1282</td>\n",
              "      <td>0</td>\n",
              "      <td>0</td>\n",
              "      <td>0</td>\n",
              "      <td>0</td>\n",
              "      <td>0</td>\n",
              "      <td>...</td>\n",
              "      <td>5</td>\n",
              "      <td>5</td>\n",
              "      <td>1.0</td>\n",
              "      <td>0.0</td>\n",
              "      <td>0.20</td>\n",
              "      <td>0.0</td>\n",
              "      <td>0.0</td>\n",
              "      <td>0.0</td>\n",
              "      <td>0.0</td>\n",
              "      <td>0.0</td>\n",
              "    </tr>\n",
              "  </tbody>\n",
              "</table>\n",
              "<p>5 rows × 40 columns</p>\n",
              "</div>\n",
              "      <button class=\"colab-df-convert\" onclick=\"convertToInteractive('df-72c4e368-234e-4260-b27f-c2f719a4b1e5')\"\n",
              "              title=\"Convert this dataframe to an interactive table.\"\n",
              "              style=\"display:none;\">\n",
              "        \n",
              "  <svg xmlns=\"http://www.w3.org/2000/svg\" height=\"24px\"viewBox=\"0 0 24 24\"\n",
              "       width=\"24px\">\n",
              "    <path d=\"M0 0h24v24H0V0z\" fill=\"none\"/>\n",
              "    <path d=\"M18.56 5.44l.94 2.06.94-2.06 2.06-.94-2.06-.94-.94-2.06-.94 2.06-2.06.94zm-11 1L8.5 8.5l.94-2.06 2.06-.94-2.06-.94L8.5 2.5l-.94 2.06-2.06.94zm10 10l.94 2.06.94-2.06 2.06-.94-2.06-.94-.94-2.06-.94 2.06-2.06.94z\"/><path d=\"M17.41 7.96l-1.37-1.37c-.4-.4-.92-.59-1.43-.59-.52 0-1.04.2-1.43.59L10.3 9.45l-7.72 7.72c-.78.78-.78 2.05 0 2.83L4 21.41c.39.39.9.59 1.41.59.51 0 1.02-.2 1.41-.59l7.78-7.78 2.81-2.81c.8-.78.8-2.07 0-2.86zM5.41 20L4 18.59l7.72-7.72 1.47 1.35L5.41 20z\"/>\n",
              "  </svg>\n",
              "      </button>\n",
              "      \n",
              "  <style>\n",
              "    .colab-df-container {\n",
              "      display:flex;\n",
              "      flex-wrap:wrap;\n",
              "      gap: 12px;\n",
              "    }\n",
              "\n",
              "    .colab-df-convert {\n",
              "      background-color: #E8F0FE;\n",
              "      border: none;\n",
              "      border-radius: 50%;\n",
              "      cursor: pointer;\n",
              "      display: none;\n",
              "      fill: #1967D2;\n",
              "      height: 32px;\n",
              "      padding: 0 0 0 0;\n",
              "      width: 32px;\n",
              "    }\n",
              "\n",
              "    .colab-df-convert:hover {\n",
              "      background-color: #E2EBFA;\n",
              "      box-shadow: 0px 1px 2px rgba(60, 64, 67, 0.3), 0px 1px 3px 1px rgba(60, 64, 67, 0.15);\n",
              "      fill: #174EA6;\n",
              "    }\n",
              "\n",
              "    [theme=dark] .colab-df-convert {\n",
              "      background-color: #3B4455;\n",
              "      fill: #D2E3FC;\n",
              "    }\n",
              "\n",
              "    [theme=dark] .colab-df-convert:hover {\n",
              "      background-color: #434B5C;\n",
              "      box-shadow: 0px 1px 3px 1px rgba(0, 0, 0, 0.15);\n",
              "      filter: drop-shadow(0px 1px 2px rgba(0, 0, 0, 0.3));\n",
              "      fill: #FFFFFF;\n",
              "    }\n",
              "  </style>\n",
              "\n",
              "      <script>\n",
              "        const buttonEl =\n",
              "          document.querySelector('#df-72c4e368-234e-4260-b27f-c2f719a4b1e5 button.colab-df-convert');\n",
              "        buttonEl.style.display =\n",
              "          google.colab.kernel.accessAllowed ? 'block' : 'none';\n",
              "\n",
              "        async function convertToInteractive(key) {\n",
              "          const element = document.querySelector('#df-72c4e368-234e-4260-b27f-c2f719a4b1e5');\n",
              "          const dataTable =\n",
              "            await google.colab.kernel.invokeFunction('convertToInteractive',\n",
              "                                                     [key], {});\n",
              "          if (!dataTable) return;\n",
              "\n",
              "          const docLinkHtml = 'Like what you see? Visit the ' +\n",
              "            '<a target=\"_blank\" href=https://colab.research.google.com/notebooks/data_table.ipynb>data table notebook</a>'\n",
              "            + ' to learn more about interactive tables.';\n",
              "          element.innerHTML = '';\n",
              "          dataTable['output_type'] = 'display_data';\n",
              "          await google.colab.output.renderOutput(dataTable, element);\n",
              "          const docLink = document.createElement('div');\n",
              "          docLink.innerHTML = docLinkHtml;\n",
              "          element.appendChild(docLink);\n",
              "        }\n",
              "      </script>\n",
              "    </div>\n",
              "  </div>\n",
              "  "
            ],
            "text/plain": [
              "          Protocol Service Flag  src_bytes  dst_bytes  Land  Wrong_fragment  \\\n",
              "Duration                                                                      \n",
              "0                0       1    0        162       4528     0               0   \n",
              "0                0       1    0        236       1228     0               0   \n",
              "0                0       1    0        233       2032     0               0   \n",
              "0                0       1    0        239        486     0               0   \n",
              "0                0       1    0        238       1282     0               0   \n",
              "\n",
              "          Urgent  Hot  num_failed_logins  ...  dst_host_count  \\\n",
              "Duration                                  ...                   \n",
              "0              0    0                  0  ...               1   \n",
              "0              0    0                  0  ...               2   \n",
              "0              0    0                  0  ...               3   \n",
              "0              0    0                  0  ...               4   \n",
              "0              0    0                  0  ...               5   \n",
              "\n",
              "          dst_host_srv_count  dst_host_same_srv_rate  dst_host_diff_srv_rate  \\\n",
              "Duration                                                                       \n",
              "0                          1                     1.0                     0.0   \n",
              "0                          2                     1.0                     0.0   \n",
              "0                          3                     1.0                     0.0   \n",
              "0                          4                     1.0                     0.0   \n",
              "0                          5                     1.0                     0.0   \n",
              "\n",
              "          dst_host_same_src_port_rate  dst_host_srv_diff_host_rate  \\\n",
              "Duration                                                             \n",
              "0                                1.00                          0.0   \n",
              "0                                0.50                          0.0   \n",
              "0                                0.33                          0.0   \n",
              "0                                0.25                          0.0   \n",
              "0                                0.20                          0.0   \n",
              "\n",
              "          dst_host_serror_rate  dst_host_srv_serror_rate  \\\n",
              "Duration                                                   \n",
              "0                          0.0                       0.0   \n",
              "0                          0.0                       0.0   \n",
              "0                          0.0                       0.0   \n",
              "0                          0.0                       0.0   \n",
              "0                          0.0                       0.0   \n",
              "\n",
              "          dst_host_rerror_rate  dst_host_srv_rerror_rate  \n",
              "Duration                                                  \n",
              "0                          0.0                       0.0  \n",
              "0                          0.0                       0.0  \n",
              "0                          0.0                       0.0  \n",
              "0                          0.0                       0.0  \n",
              "0                          0.0                       0.0  \n",
              "\n",
              "[5 rows x 40 columns]"
            ]
          },
          "execution_count": 50,
          "metadata": {},
          "output_type": "execute_result"
        }
      ],
      "source": [
        "data=pd.DataFrame(train_def)\n",
        "data.drop(data.columns[data.columns.str.contains('unnamed',case = False)],axis = 1, inplace = True)\n",
        "data.head()\n"
      ]
    },
    {
      "cell_type": "code",
      "execution_count": null,
      "metadata": {
        "colab": {
          "base_uri": "https://localhost:8080/"
        },
        "id": "9p1WlJBQEKEF",
        "outputId": "e96169b4-7792-42af-db62-a87d6ff9c33a"
      },
      "outputs": [
        {
          "data": {
            "text/plain": [
              "(1048575, 40)"
            ]
          },
          "execution_count": 51,
          "metadata": {},
          "output_type": "execute_result"
        }
      ],
      "source": [
        "data.shape"
      ]
    },
    {
      "cell_type": "code",
      "execution_count": null,
      "metadata": {
        "colab": {
          "base_uri": "https://localhost:8080/"
        },
        "id": "Ygdk0lM_uiqQ",
        "outputId": "57cdd1d6-2fa9-46ab-9c06-a87c0009c129"
      },
      "outputs": [
        {
          "name": "stdout",
          "output_type": "stream",
          "text": [
            "Looking in indexes: https://pypi.org/simple, https://us-python.pkg.dev/colab-wheels/public/simple/\n",
            "Requirement already satisfied: scikit-multiflow in /usr/local/lib/python3.8/dist-packages (0.5.3)\n",
            "Requirement already satisfied: sortedcontainers>=1.5.7 in /usr/local/lib/python3.8/dist-packages (from scikit-multiflow) (2.4.0)\n",
            "Requirement already satisfied: numpy>=1.14.0 in /usr/local/lib/python3.8/dist-packages (from scikit-multiflow) (1.21.6)\n",
            "Requirement already satisfied: pandas>=0.25.3 in /usr/local/lib/python3.8/dist-packages (from scikit-multiflow) (1.3.5)\n",
            "Requirement already satisfied: scikit-learn>=0.20 in /usr/local/lib/python3.8/dist-packages (from scikit-multiflow) (1.0.2)\n",
            "Requirement already satisfied: scipy>=1.0.0 in /usr/local/lib/python3.8/dist-packages (from scikit-multiflow) (1.7.3)\n",
            "Requirement already satisfied: matplotlib>=2.0.0 in /usr/local/lib/python3.8/dist-packages (from scikit-multiflow) (3.2.2)\n",
            "Requirement already satisfied: cycler>=0.10 in /usr/local/lib/python3.8/dist-packages (from matplotlib>=2.0.0->scikit-multiflow) (0.11.0)\n",
            "Requirement already satisfied: kiwisolver>=1.0.1 in /usr/local/lib/python3.8/dist-packages (from matplotlib>=2.0.0->scikit-multiflow) (1.4.4)\n",
            "Requirement already satisfied: python-dateutil>=2.1 in /usr/local/lib/python3.8/dist-packages (from matplotlib>=2.0.0->scikit-multiflow) (2.8.2)\n",
            "Requirement already satisfied: pyparsing!=2.0.4,!=2.1.2,!=2.1.6,>=2.0.1 in /usr/local/lib/python3.8/dist-packages (from matplotlib>=2.0.0->scikit-multiflow) (3.0.9)\n",
            "Requirement already satisfied: pytz>=2017.3 in /usr/local/lib/python3.8/dist-packages (from pandas>=0.25.3->scikit-multiflow) (2022.7)\n",
            "Requirement already satisfied: joblib>=0.11 in /usr/local/lib/python3.8/dist-packages (from scikit-learn>=0.20->scikit-multiflow) (1.2.0)\n",
            "Requirement already satisfied: threadpoolctl>=2.0.0 in /usr/local/lib/python3.8/dist-packages (from scikit-learn>=0.20->scikit-multiflow) (3.1.0)\n",
            "Requirement already satisfied: six>=1.5 in /usr/local/lib/python3.8/dist-packages (from python-dateutil>=2.1->matplotlib>=2.0.0->scikit-multiflow) (1.15.0)\n"
          ]
        }
      ],
      "source": [
        "\n",
        "!pip install -U scikit-multiflow"
      ]
    },
    {
      "cell_type": "code",
      "execution_count": null,
      "metadata": {
        "id": "OUr4ByCJu1l0"
      },
      "outputs": [],
      "source": [
        "categorical = [var for var in data.columns if data[var].dtype=='O']\n",
        "data[categorical].head()\n",
        "# data[categorical].isnull().mean()\n",
        "numerical = [var for var in data.columns if data[var].dtype!='O']\n",
        "data[numerical].head()\n",
        "real_data=pd.DataFrame()\n",
        "real_data[\"Serv1\"]=data[\"Service_1\"]\n",
        "real_data[\"Serv2\"]=data[\"Service_2\"]\n",
        "real_data[\"Serv3\"]=data[\"Service_3\"]"
      ]
    },
    {
      "cell_type": "code",
      "execution_count": null,
      "metadata": {
        "colab": {
          "base_uri": "https://localhost:8080/"
        },
        "id": "Wr0blBEHwyzE",
        "outputId": "99f23836-90ce-4c06-b1fe-77173b4866d3"
      },
      "outputs": [
        {
          "name": "stdout",
          "output_type": "stream",
          "text": [
            "Looking in indexes: https://pypi.org/simple, https://us-python.pkg.dev/colab-wheels/public/simple/\n",
            "Requirement already satisfied: category_encoders in /usr/local/lib/python3.8/dist-packages (2.5.1.post0)\n",
            "Requirement already satisfied: scipy>=1.0.0 in /usr/local/lib/python3.8/dist-packages (from category_encoders) (1.7.3)\n",
            "Requirement already satisfied: statsmodels>=0.9.0 in /usr/local/lib/python3.8/dist-packages (from category_encoders) (0.12.2)\n",
            "Requirement already satisfied: patsy>=0.5.1 in /usr/local/lib/python3.8/dist-packages (from category_encoders) (0.5.3)\n",
            "Requirement already satisfied: numpy>=1.14.0 in /usr/local/lib/python3.8/dist-packages (from category_encoders) (1.21.6)\n",
            "Requirement already satisfied: pandas>=1.0.5 in /usr/local/lib/python3.8/dist-packages (from category_encoders) (1.3.5)\n",
            "Requirement already satisfied: scikit-learn>=0.20.0 in /usr/local/lib/python3.8/dist-packages (from category_encoders) (1.0.2)\n",
            "Requirement already satisfied: pytz>=2017.3 in /usr/local/lib/python3.8/dist-packages (from pandas>=1.0.5->category_encoders) (2022.7)\n",
            "Requirement already satisfied: python-dateutil>=2.7.3 in /usr/local/lib/python3.8/dist-packages (from pandas>=1.0.5->category_encoders) (2.8.2)\n",
            "Requirement already satisfied: six in /usr/local/lib/python3.8/dist-packages (from patsy>=0.5.1->category_encoders) (1.15.0)\n",
            "Requirement already satisfied: threadpoolctl>=2.0.0 in /usr/local/lib/python3.8/dist-packages (from scikit-learn>=0.20.0->category_encoders) (3.1.0)\n",
            "Requirement already satisfied: joblib>=0.11 in /usr/local/lib/python3.8/dist-packages (from scikit-learn>=0.20.0->category_encoders) (1.2.0)\n"
          ]
        }
      ],
      "source": [
        "!pip install --upgrade category_encoders"
      ]
    },
    {
      "cell_type": "code",
      "execution_count": null,
      "metadata": {
        "id": "H-87aucYvmUF"
      },
      "outputs": [],
      "source": [
        "import category_encoders as encode\n",
        "col=[\"Service\",\"Flag\"]\n",
        "encoder = encode.OneHotEncoder(cols=col)\n",
        "data = encoder.fit_transform(data)"
      ]
    },
    {
      "cell_type": "code",
      "execution_count": null,
      "metadata": {
        "colab": {
          "base_uri": "https://localhost:8080/"
        },
        "id": "MLeGzKEYxHZr",
        "outputId": "e73556bc-b170-43fa-e29b-90b529fc1798"
      },
      "outputs": [
        {
          "data": {
            "text/plain": [
              "123731850"
            ]
          },
          "execution_count": 56,
          "metadata": {},
          "output_type": "execute_result"
        }
      ],
      "source": [
        "categorical = [var for var in data.columns if data[var].dtype=='O']\n",
        "data[categorical].head()\n",
        "data.size"
      ]
    },
    {
      "cell_type": "code",
      "execution_count": null,
      "metadata": {
        "colab": {
          "base_uri": "https://localhost:8080/"
        },
        "id": "urFw-qZ1PSsc",
        "outputId": "289d4861-9f32-43ca-d1ab-c7bf0b3cbfb3"
      },
      "outputs": [
        {
          "name": "stdout",
          "output_type": "stream",
          "text": [
            "Looking in indexes: https://pypi.org/simple, https://us-python.pkg.dev/colab-wheels/public/simple/\n",
            "Requirement already satisfied: scikit-multiflow in /usr/local/lib/python3.8/dist-packages (0.5.3)\n",
            "Requirement already satisfied: scikit-learn>=0.20 in /usr/local/lib/python3.8/dist-packages (from scikit-multiflow) (1.0.2)\n",
            "Requirement already satisfied: scipy>=1.0.0 in /usr/local/lib/python3.8/dist-packages (from scikit-multiflow) (1.7.3)\n",
            "Requirement already satisfied: sortedcontainers>=1.5.7 in /usr/local/lib/python3.8/dist-packages (from scikit-multiflow) (2.4.0)\n",
            "Requirement already satisfied: numpy>=1.14.0 in /usr/local/lib/python3.8/dist-packages (from scikit-multiflow) (1.21.6)\n",
            "Requirement already satisfied: pandas>=0.25.3 in /usr/local/lib/python3.8/dist-packages (from scikit-multiflow) (1.3.5)\n",
            "Requirement already satisfied: matplotlib>=2.0.0 in /usr/local/lib/python3.8/dist-packages (from scikit-multiflow) (3.2.2)\n",
            "Requirement already satisfied: kiwisolver>=1.0.1 in /usr/local/lib/python3.8/dist-packages (from matplotlib>=2.0.0->scikit-multiflow) (1.4.4)\n",
            "Requirement already satisfied: python-dateutil>=2.1 in /usr/local/lib/python3.8/dist-packages (from matplotlib>=2.0.0->scikit-multiflow) (2.8.2)\n",
            "Requirement already satisfied: pyparsing!=2.0.4,!=2.1.2,!=2.1.6,>=2.0.1 in /usr/local/lib/python3.8/dist-packages (from matplotlib>=2.0.0->scikit-multiflow) (3.0.9)\n",
            "Requirement already satisfied: cycler>=0.10 in /usr/local/lib/python3.8/dist-packages (from matplotlib>=2.0.0->scikit-multiflow) (0.11.0)\n",
            "Requirement already satisfied: pytz>=2017.3 in /usr/local/lib/python3.8/dist-packages (from pandas>=0.25.3->scikit-multiflow) (2022.7)\n",
            "Requirement already satisfied: threadpoolctl>=2.0.0 in /usr/local/lib/python3.8/dist-packages (from scikit-learn>=0.20->scikit-multiflow) (3.1.0)\n",
            "Requirement already satisfied: joblib>=0.11 in /usr/local/lib/python3.8/dist-packages (from scikit-learn>=0.20->scikit-multiflow) (1.2.0)\n",
            "Requirement already satisfied: six>=1.5 in /usr/local/lib/python3.8/dist-packages (from python-dateutil>=2.1->matplotlib>=2.0.0->scikit-multiflow) (1.15.0)\n"
          ]
        }
      ],
      "source": [
        "!pip install scikit-multiflow"
      ]
    },
    {
      "cell_type": "code",
      "execution_count": null,
      "metadata": {
        "colab": {
          "base_uri": "https://localhost:8080/"
        },
        "id": "vQ0miNUtyDYc",
        "outputId": "73855eeb-ef8e-46f0-b61f-270e1636dc90"
      },
      "outputs": [
        {
          "name": "stderr",
          "output_type": "stream",
          "text": [
            "/usr/local/lib/python3.8/dist-packages/skmultiflow/trees/hoeffding_tree.py:34: FutureWarning: 'HoeffdingTree' has been renamed to 'HoeffdingTreeClassifier' in v0.5.0.\n",
            "The old name will be removed in v0.7.0\n",
            "  warnings.warn(\"'HoeffdingTree' has been renamed to 'HoeffdingTreeClassifier' in v0.5.0.\\n\"\n"
          ]
        }
      ],
      "source": [
        "from skmultiflow.data import DataStream\n",
        "from skmultiflow.data import WaveformGenerator\n",
        "from skmultiflow.trees import HoeffdingTree\n",
        "from skmultiflow.evaluation import EvaluatePrequential\n",
        "ht = HoeffdingTree(max_byte_size=33554432,\n",
        "memory_estimate_period=1000000,\n",
        "grace_period=200,\n",
        "split_criterion='info_gain',\n",
        "split_confidence=1e-07,\n",
        "tie_threshold=0.05,\n",
        "binary_split=True,\n",
        "stop_mem_management=False,\n",
        "remove_poor_atts=False,\n",
        "no_preprune=False,\n",
        "leaf_prediction='nba',\n",
        "nb_threshold=0,\n",
        "nominal_attributes=None)\n",
        "def CreateNewBaseClassifier(r):\n",
        "  global ht\n",
        "  # stream = WaveformGenerator()\n",
        "  # stream.get_params()\n",
        "  y=np.array(data[\"Protocol\"])\n",
        "  # print(ht.get_model_description())\n",
        "  stream=DataStream(data=real_data,allow_nan=True,y=y,name=\"data\")\n",
        "  stream.prepare_for_use()\n",
        "  n_samples = 0\n",
        "  uncertain=1\n",
        "  crt=0\n",
        "  max_samples = 100\n",
        "  while n_samples < max_samples and stream.has_more_samples():\n",
        "      X, Y = stream.next_sample()\n",
        "      # print(X,y)\n",
        "      y_pred = ht.predict(X)\n",
        "      # print(y[0],y_pred[0])\n",
        "      if y[0] == y_pred[0]:\n",
        "          uncertain*=(1-n_samples)\n",
        "          crt+=1\n",
        "      else:\n",
        "        ht = ht.partial_fit(real_data, y,sample_weight=uncertain)\n",
        "        # print(\"Model Score\",ht.score(real_data, np.array(data[\"Protocol\"])))\n",
        "      n_samples += 1\n",
        "  # # stream.get_params()\n",
        "  # stream.set_params(params={\"data\":\"\"})\n",
        "  # val=ht.get_votes_for_instance(X)\n",
        "  # print(val)\n",
        "\n",
        "  # print('accuracy: {}'.format(crt / n_samples))\n",
        "  c_new=[X,y_pred]\n",
        "  return c_new\n"
      ]
    },
    {
      "cell_type": "code",
      "execution_count": null,
      "metadata": {
        "id": "WlYwmfo-sdeq"
      },
      "outputs": [],
      "source": [
        "\n",
        "global theta_m\n",
        "total_values=[1000,1000,1000,1000,1000,1000,1000,1000]\n",
        "def UncertaintyStrategy(x,s):\n",
        "  result=ht.predict_proba(x)\n",
        "  result[0].sort()\n",
        "  len1=len(result[0])\n",
        "  margin=abs(result[0][len1-1]-result[0][len1-2])\n",
        "  if(margin<theta_m):\n",
        "    theta_m=theta_m*(1-s)\n",
        "    return True\n",
        "  else:\n",
        "    return False"
      ]
    },
    {
      "cell_type": "code",
      "execution_count": null,
      "metadata": {
        "id": "1gStm-J3sqxv"
      },
      "outputs": [],
      "source": [
        "def ImbalanceStratagy(sigma):\n",
        " # sigma : threshold used foe random strategy\n",
        " # generate a uniform random variable between [0,1]\n",
        " c=np.random.uniform(0,1)\n",
        " if(c<=sigma):\n",
        "  return True\n",
        " else:\n",
        "  return False"
      ]
    },
    {
      "cell_type": "code",
      "execution_count": null,
      "metadata": {
        "colab": {
          "base_uri": "https://localhost:8080/"
        },
        "id": "JbdnyH5oevAg",
        "outputId": "f3295ed7-6908-4aa6-ffec-d30a44c01eee"
      },
      "outputs": [
        {
          "name": "stdout",
          "output_type": "stream",
          "text": [
            "Looking in indexes: https://pypi.org/simple, https://us-python.pkg.dev/colab-wheels/public/simple/\n",
            "Requirement already satisfied: imbalanced-learn in /usr/local/lib/python3.8/dist-packages (0.8.1)\n",
            "Requirement already satisfied: numpy>=1.13.3 in /usr/local/lib/python3.8/dist-packages (from imbalanced-learn) (1.21.6)\n",
            "Requirement already satisfied: scikit-learn>=0.24 in /usr/local/lib/python3.8/dist-packages (from imbalanced-learn) (1.0.2)\n",
            "Requirement already satisfied: joblib>=0.11 in /usr/local/lib/python3.8/dist-packages (from imbalanced-learn) (1.2.0)\n",
            "Requirement already satisfied: scipy>=0.19.1 in /usr/local/lib/python3.8/dist-packages (from imbalanced-learn) (1.7.3)\n",
            "Requirement already satisfied: threadpoolctl>=2.0.0 in /usr/local/lib/python3.8/dist-packages (from scikit-learn>=0.24->imbalanced-learn) (3.1.0)\n"
          ]
        }
      ],
      "source": [
        "!pip install imbalanced-learn"
      ]
    },
    {
      "cell_type": "code",
      "execution_count": null,
      "metadata": {
        "id": "VBGTyhGMgkIO"
      },
      "outputs": [],
      "source": [
        "import sys\n",
        "import os\n",
        "sys.path.append(os.path.abspath(\"./\"))"
      ]
    },
    {
      "cell_type": "code",
      "execution_count": null,
      "metadata": {
        "id": "Te0Mu94ehwhS"
      },
      "outputs": [],
      "source": [
        "\n",
        "import numpy as np\n",
        "from math import sqrt, log\n",
        "\n",
        "\n",
        "def imbalance_degree(classes, distance=\"EU\"):\n",
        "\n",
        "\n",
        "    def _eu(_d, _e):\n",
        "       \n",
        "        summ = np.vectorize(lambda p : pow(p - _e, 2))(_d).sum()\n",
        "        return sqrt(summ)\n",
        "        \n",
        "    def _ch(_d, _e):\n",
        "\n",
        "        dif = np.vectorize(lambda p : abs(p - _e))(_d)\n",
        "        return dif.max()\n",
        "    \n",
        "    def _kl(_d, _e):\n",
        "\n",
        "        kl = lambda p : 0.0 if p == 0 else p * log(p/_e)\n",
        "        return np.vectorize(kl)(_d).sum()\n",
        "    \n",
        "    def _he(_d, _e):\n",
        "\n",
        "        summ = np.vectorize(lambda p : pow((sqrt(p) - sqrt(_e)), 2))(_d).sum()\n",
        "        return (1 / sqrt(2)) * sqrt(summ)\n",
        "    \n",
        "    def _tv(_d, _e):\n",
        "\n",
        "        summ = np.vectorize(lambda p : abs(p - _e))(_d).sum()\n",
        "        return (1 / 2) * summ\n",
        "    \n",
        "    def _cs(_d, _e):\n",
        "\n",
        "        summ = np.vectorize(lambda p : pow((p - _e), 2) / _e)(_d).sum()\n",
        "        return summ\n",
        "    \n",
        "    def _min_classes(_d, _e):\n",
        "\n",
        "        return len(_d[_d < _e])\n",
        "    \n",
        "    def _i_m(_K, _m):\n",
        "\n",
        "        min_i = np.zeros(_m)\n",
        "        maj_i = np.ones((_K - _m - 1)) * (1 / _K)\n",
        "        maj = np.array([1 - (_K - _m - 1) / _K])\n",
        "        return np.concatenate((min_i, maj_i, maj)).tolist()\n",
        "    \n",
        "    def _dist_fn():\n",
        "\n",
        "        if distance == \"EU\":\n",
        "            return _eu\n",
        "        elif distance == \"CH\":\n",
        "            return _ch\n",
        "        elif distance == \"KL\":\n",
        "            return _kl\n",
        "        elif distance == \"HE\":\n",
        "            return _he\n",
        "        elif distance == \"TV\":\n",
        "            return _tv\n",
        "        elif distance == \"CS\":\n",
        "            return _cs\n",
        "        else:\n",
        "            raise ValueError(\"Bad distance function parameter. \" + \\\n",
        "                    \"Should be one in EU, CH, KL, HE, TV, or CS\")\n",
        "    \n",
        "    _, class_counts = np.unique(classes, return_counts=True)\n",
        "    empirical_distribution = class_counts / class_counts.sum()\n",
        "    K = len(class_counts)\n",
        "    e = 1 / K\n",
        "    m = _min_classes(empirical_distribution, e)\n",
        "    i_m = _i_m(K, m)\n",
        "    dfn = _dist_fn()\n",
        "    dist_ed = dfn(empirical_distribution, e)\n",
        "    return 0.0 if dist_ed == 00 else (dist_ed / dfn(i_m, e)) + (m - 1)"
      ]
    },
    {
      "cell_type": "code",
      "execution_count": null,
      "metadata": {
        "id": "xDUYMWLVsvRp"
      },
      "outputs": [],
      "source": [
        "\n",
        "\"\"\"\n",
        "ReinforcementWeightAdjustment (x,y,L,D,\n",
        "wd\n",
        ",DCIR[l])\n",
        "Inputs:\n",
        "1: x: the processed instance of label y\n",
        "2: L: number of classes\n",
        "3: D: number of the dynamic classifiers\n",
        "4: wd\n",
        ": weight of Dynamic classifiers ðd ¼ 1; ... ; DÞ\n",
        "5: DCIR½l\u0004: damped class imbalance ratio\n",
        "Output: Adjusted weight wd ðd ¼ 1; ... ; DÞ\n",
        "Process:\n",
        "1: if ðDCIR½y\u0004 < 1=LÞ then // if x belongs to minority class\n",
        "2: for d in 1 to D do:\n",
        "3: if ðPredictresultðx; CdÞ¼¼ True) then // Cd predicts\n",
        "correct\n",
        "4: wd ¼ wd \u0005 ð1 þ 1=DÞ // increase weight of Cd\n",
        "5: else\n",
        "6: wd ¼ wd \u0005 ð1  1=DÞ // decrease weight of Cd\n",
        "7: end if\n",
        "\"\"\"\n",
        "\"\"\"\n",
        " \n",
        "\"\"\"\n",
        "# ht = HoeffdingTree(max_byte_size=33554432,\n",
        "#   memory_estimate_period=1000000,\n",
        "#   grace_period=200,\n",
        "#   split_criterion='info_gain',\n",
        "#   split_confidence=1e-07,\n",
        "#   tie_threshold=0.05,\n",
        "#   binary_split=True,\n",
        "#   stop_mem_management=False,\n",
        "#   remove_poor_atts=False,\n",
        "#   no_preprune=False,\n",
        "#   leaf_prediction='nba',\n",
        "#   nb_threshold=0,\n",
        "#   nominal_attributes=None)\n",
        "# global ht\n",
        "def ReinforcementWeightAdjustment(ht):\n",
        "  y=np.array(data[\"Protocol\"])\n",
        "  val=imbalance_degree(y, \"EU\")\n",
        "  print(val)\n",
        "  stream=DataStream(data=real_data,allow_nan=True,y=y,name=\"data\")\n",
        "  stream.prepare_for_use()\n",
        "  weigth=1.00\n",
        "  weight_arr=list()\n",
        "  if(val>round(1/len(y))): # < symbol has no \n",
        "    for i in range(len(y)):\n",
        "      X, Y = stream.next_sample()\n",
        "      if Y[0] == ht.predict(X):\n",
        "        weigth*=(1+1/real_data.size)\n",
        "      else:\n",
        "        weigth*=(1-1/real_data.size)\n",
        "      weight_arr.append(weigth)\n",
        "  print(real_data.shape,len(weight_arr))\n",
        "  print(weight)\n",
        "  ht = ht.partial_fit(real_data, np.array(data[\"Protocol\"]),sample_weight=weigth)\n",
        "  print(\"Model Score\",ht.score(real_data, np.array(data[\"Protocol\"])))"
      ]
    },
    {
      "cell_type": "code",
      "execution_count": null,
      "metadata": {
        "id": "4VO4tA3atZ6a"
      },
      "outputs": [],
      "source": [
        "def fitnessfunc(inst_pos):\n",
        " return inst_pos[0]**2 + inst_pos[1]**2 + 1\n"
      ]
    },
    {
      "cell_type": "code",
      "execution_count": null,
      "metadata": {
        "id": "E-VlAimdyQru"
      },
      "outputs": [],
      "source": [
        "# import random\n",
        "# R=[]\n",
        "# I=10\n",
        "# def CreateNewBaseClassifier(r):\n",
        "# # r : tiny portion parameter to select and label instances from A\n",
        "#   global ht\n",
        "#   size=int(r*I) # number of instances to select on random\n",
        "#   AA=[[]for h in range(I)]\n",
        "#   for h in range(I):\n",
        "#     AA[h]=[A.data[h],B.data[h]]\n",
        "#   W = 0.5\n",
        "#   c1 = 0.1\n",
        "#   c2 = 0.9\n",
        "#   n_iter = 1\n",
        "#   stream_inst = AA\n",
        "#   velocity_arr = ([np.array([0, 0]) for _ in range(I)])\n",
        "#   iteration = 0\n",
        "#   #pbest\n",
        "#   pbest_pos = stream_inst\n",
        "#   pbest_fitness = np.array([float('inf') for _ in range(I)])\n",
        "#   #gbest\n",
        "#   gbest_pos = np.array([float('inf'), float('inf')])\n",
        "#   gbest_fitness = float('inf')\n",
        "#   for collect in range(size):\n",
        "#     while iteration < n_iter:\n",
        "#       for i in range(I):\n",
        "#         fit_value = fitnessfunc(stream_inst[i])\n",
        "\n",
        "#         if(pbest_fitness[i] > fit_value):\n",
        "#           pbest_fitness[i] = fit_value\n",
        "#           pbest_pos[i] = stream_inst[i]\n",
        "\n",
        "#         if(gbest_fitness > fit_value):\n",
        "#           gbest_fitness = fit_value\n",
        "#           gbest_pos = stream_inst[i]\n",
        "\n",
        "#       for i in range(I):\n",
        "#         new_velocity = (W*velocity_arr[i]) + (c1*random.random()) * (pbest_pos[i] - stream_inst[i]) + (c2*random.random()) * (gbest_pos-stream_inst[i])\n",
        "#         new_position = new_velocity + stream_inst[i]\n",
        "#         stream_inst[i] = new_position\n",
        "#       iteration = iteration + 1\n",
        "\n",
        "#   # print(\"The best position is \", gbest_pos, \"in iteration number \", iteration)\n",
        "#       R.append(gbest_pos)\n",
        "#   # randomly labeled r portion of instances from current array A\n",
        "#   # R=random.sample(AA,size)\n",
        "#   R1=[None]*size\n",
        "#   R2=[None]*size\n",
        "#   for h in range(size):\n",
        "#     R1[h]=R[h][0][0]\n",
        "#     R2[h]=R[h][1][0]\n",
        "#   R1=np.asarray(R1)\n",
        "#   R2=np.asarray(R2)\n",
        "#   # building a new classifier cnew from R\n",
        "#   ht=ht.partial_fit(R1,R2)\n",
        "#   # updating the classifier with R\n",
        "#   z=ht.predict(R1)\n",
        "#   cnew=[R1,z]\n",
        "#   return cnew"
      ]
    },
    {
      "cell_type": "code",
      "execution_count": null,
      "metadata": {
        "colab": {
          "base_uri": "https://localhost:8080/"
        },
        "id": "5B3wF9FagTAt",
        "outputId": "d921eaa3-1bb6-4f65-aff9-45908ac24734"
      },
      "outputs": [
        {
          "data": {
            "text/plain": [
              "GridSearchCV(cv=5, estimator=RandomForestClassifier(),\n",
              "             param_grid={'n_estimators': [50, 100, 200]})"
            ]
          },
          "execution_count": 68,
          "metadata": {},
          "output_type": "execute_result"
        }
      ],
      "source": [
        "###\n",
        "### Ensemble\n",
        "\n",
        "from sklearn.ensemble import RandomForestClassifier\n",
        "from sklearn.model_selection import GridSearchCV\n",
        "rf = RandomForestClassifier()\n",
        "params_rf = {'n_estimators': [50, 100, 200]}\n",
        "rf_gs = GridSearchCV(rf, params_rf, cv=5)\n",
        "y=np.array(data[\"Protocol\"])\n",
        "rf_gs.fit(real_data, y)"
      ]
    },
    {
      "cell_type": "code",
      "execution_count": null,
      "metadata": {
        "id": "vtzN8WDLtoFa"
      },
      "outputs": [],
      "source": [
        "\"\"\"\n",
        "Algorithm 6. DealInstance ðxnew; i; 6; um; s; UÞ\n",
        "Input:\n",
        "1: xnew: new instance\n",
        "2: i: indicator of the current processing instance’s position in\n",
        "circular array\n",
        "3: 6: the set of imbalance threshold sl ðl ¼ 1; ... ; Lsl6Þ\n",
        "4: u: parameter to set margin threshold\n",
        "5: s: the adjustment step\n",
        "6: U: the labeled instances buffer\n",
        "Process:\n",
        "1: Instance xi ¼ A[i] // determine the instance to be processed\n",
        "from the circular array\n",
        "2: labeling ¼ UncertaintyStrategy (xi,um,s)\n",
        "3: if (labeling ¼ ¼ True) then\n",
        "4: get the real label yi of instance xi, update Cd, Cs with\n",
        "labeled xi\n",
        "5: store xi into U[yi]\n",
        "6: if (Predictresult(xi, E) ¼ ¼ True) then // if the ensemble\n",
        "classifier E predict correct\n",
        "7: um ¼ um \u0005 ð1  sÞ\n",
        "8: end if\n",
        "9: else\n",
        "10: labeling ¼ ImbalanceStrategy (xi, 6)\n",
        "11: if (labeling ¼ ¼ True) then\n",
        "12: get the real label yi of instance xi, update Cd, Cs with\n",
        "labeled xi\n",
        "13: store xi into U[yi]\n",
        "14: if (Predictresult(xi, E) ¼ False) then //E predict wrong\n",
        "15: ReinforcementWeightAdjustment(xi,yi,L,D,wd\n",
        ",DCIR[l])\n",
        "16: end if\n",
        "17: end if\n",
        "18: end if\n",
        "19: A[i] ¼ xnew // cache new instance in A[i] to replace xi\n",
        "\"\"\"\n",
        "\n",
        "labels=np.array(data[\"Protocol\"])\n",
        "def DealtInstace(i,x,theta_m,ht):\n",
        "  weights=list()\n",
        "  Instance=labels[i]\n",
        "  ## Uncertain strategy\n",
        "  result=ht.predict_proba(x)\n",
        "  result[0].sort()\n",
        "  len1=len(result[0])\n",
        "  margin=abs(result[0][len1-1]-result[0][len1-2])\n",
        "  if(margin<theta_m):\n",
        "    theta_m=theta_m*(1-i)\n",
        "    weights.append(labels[i])\n",
        "    ht = ht.partial_fit(real_data, np.array(data[\"Protocol\"]),sample_weight=weights)\n",
        "    # print(ht.nominal_attributes)\n",
        "    # print(\"Model Score\",ht.score(real/_data[\"Serv1\"], np.array(data[\"Protocol\"])))\n",
        "  else:\n",
        "    #inbalance strattagy\n",
        "    c=np.random.uniform(0,1)\n",
        "    if(c<=theta_m):\n",
        "      weights.append(labels[i])\n",
        "      if rf.predict(x)!=labels[i]:\n",
        "        ReinforcementWeightAdjustment()"
      ]
    },
    {
      "cell_type": "code",
      "execution_count": null,
      "metadata": {
        "id": "t1pfFyIe41Lx"
      },
      "outputs": [],
      "source": [
        "from skmultiflow.data import HyperplaneGenerator\n",
        "from skmultiflow.data import SEAGenerator\n",
        "from skmultiflow.data import RandomRBFGeneratorDrift\n",
        "from skmultiflow.data import RandomTreeGenerator\n",
        "from skmultiflow.data import LEDGeneratorDrift\n",
        "from skmultiflow.trees import HoeffdingTree\n",
        "from skmultiflow.data import AGRAWALGenerator\n",
        "from skmultiflow.evaluation import EvaluatePrequential\n",
        "from skmultiflow.data.sine_generator import SineGenerator\n",
        "\n",
        "hyp_s=HyperplaneGenerator(random_state=None, n_features=10,\n",
        "n_drift_features=2, mag_change=0.001, noise_percentage=0.05, sigma_percentage=0.1)   \n",
        "\n",
        "hyp_f=HyperplaneGenerator(random_state=None,\n",
        "n_features=10,\n",
        "n_drift_features=2,\n",
        "mag_change=0.1,\n",
        "noise_percentage=0.05,\n",
        "sigma_percentage=0.1)\n",
        "    \n",
        "sea_s=SEAGenerator(classification_function=0,\n",
        "random_state=None,\n",
        "balance_classes=False,\n",
        "noise_percentage=0.10)\n",
        "    \n",
        "sea_f=SEAGenerator(classification_function=0,\n",
        "random_state=None,\n",
        "balance_classes=False,\n",
        "noise_percentage=0.10)\n",
        "    \n",
        "rbf_gr=RandomRBFGeneratorDrift(model_random_state=None,\n",
        "sample_random_state=None,\n",
        "n_classes=4,\n",
        "n_features=20,\n",
        "n_centroids=4,\n",
        "change_speed=0.0,\n",
        "num_drift_centroids=4)\n",
        "    \n",
        "led_m=LEDGeneratorDrift(random_state=None,\n",
        "noise_percentage=0.10,\n",
        "has_noise=False,\n",
        "n_drift_features=3)\n",
        "    \n",
        "tree_s=RandomTreeGenerator(tree_random_state=None,\n",
        "sample_random_state=None,\n",
        "n_classes=4,\n",
        "n_cat_features=5,\n",
        "n_num_features=5,\n",
        "n_categories_per_cat_feature=5,\n",
        "max_tree_depth=5,\n",
        "min_leaf_depth=3,\n",
        "fraction_leaves_per_level=0.15)\n",
        "    \n",
        "tree_f=RandomTreeGenerator(tree_random_state=None,\n",
        "sample_random_state=None,\n",
        "n_classes=6,\n",
        "n_cat_features=5,\n",
        "n_num_features=5,\n",
        "n_categories_per_cat_feature=5,\n",
        "max_tree_depth=5,\n",
        "min_leaf_depth=3,\n",
        "fraction_leaves_per_level=0.15)\n",
        "\n",
        "sine=SineGenerator(classification_function = 2, random_state = 112,\n",
        " balance_classes = False, has_noise = True)\n",
        "\n",
        "agar=AGRAWALGenerator(balance_classes=True,random_state=2)\n",
        "\n",
        "ds_stream=DataStream(data=real_data,allow_nan=True,y=y,name=\"data\")"
      ]
    },
    {
      "cell_type": "code",
      "execution_count": null,
      "metadata": {
        "colab": {
          "base_uri": "https://localhost:8080/"
        },
        "id": "xFUe1jCgobTf",
        "outputId": "56fac169-f74a-497d-a3aa-b38175af48b6"
      },
      "outputs": [
        {
          "name": "stderr",
          "output_type": "stream",
          "text": [
            "/usr/local/lib/python3.8/dist-packages/skmultiflow/data/base_stream.py:191: FutureWarning: 'prepare_for_use' has been deprecated in v0.5.0 and will be removed in v0.7.0.\n",
            "New instances of the Stream class are now ready to use after instantiation.\n",
            "  warnings.warn(\n",
            "/usr/local/lib/python3.8/dist-packages/sklearn/metrics/_ranking.py:999: UndefinedMetricWarning: No positive samples in y_true, true positive value should be meaningless\n",
            "  warnings.warn(\n"
          ]
        },
        {
          "name": "stdout",
          "output_type": "stream",
          "text": [
            "[0.         0.22866652 0.26347185 1.        ] [3 2 1 0]\n"
          ]
        },
        {
          "name": "stderr",
          "output_type": "stream",
          "text": [
            "/usr/local/lib/python3.8/dist-packages/skmultiflow/data/base_stream.py:191: FutureWarning: 'prepare_for_use' has been deprecated in v0.5.0 and will be removed in v0.7.0.\n",
            "New instances of the Stream class are now ready to use after instantiation.\n",
            "  warnings.warn(\n",
            "/usr/local/lib/python3.8/dist-packages/sklearn/metrics/_ranking.py:999: UndefinedMetricWarning: No positive samples in y_true, true positive value should be meaningless\n",
            "  warnings.warn(\n"
          ]
        },
        {
          "name": "stdout",
          "output_type": "stream",
          "text": [
            "[0.         0.22866652 0.26347185 1.        ] [3 2 1 0]\n"
          ]
        },
        {
          "name": "stderr",
          "output_type": "stream",
          "text": [
            "/usr/local/lib/python3.8/dist-packages/skmultiflow/data/base_stream.py:191: FutureWarning: 'prepare_for_use' has been deprecated in v0.5.0 and will be removed in v0.7.0.\n",
            "New instances of the Stream class are now ready to use after instantiation.\n",
            "  warnings.warn(\n",
            "/usr/local/lib/python3.8/dist-packages/sklearn/metrics/_ranking.py:999: UndefinedMetricWarning: No positive samples in y_true, true positive value should be meaningless\n",
            "  warnings.warn(\n",
            "/usr/local/lib/python3.8/dist-packages/skmultiflow/data/base_stream.py:191: FutureWarning: 'prepare_for_use' has been deprecated in v0.5.0 and will be removed in v0.7.0.\n",
            "New instances of the Stream class are now ready to use after instantiation.\n",
            "  warnings.warn(\n",
            "/usr/local/lib/python3.8/dist-packages/sklearn/metrics/_ranking.py:999: UndefinedMetricWarning: No positive samples in y_true, true positive value should be meaningless\n",
            "  warnings.warn(\n",
            "/usr/local/lib/python3.8/dist-packages/skmultiflow/data/base_stream.py:191: FutureWarning: 'prepare_for_use' has been deprecated in v0.5.0 and will be removed in v0.7.0.\n",
            "New instances of the Stream class are now ready to use after instantiation.\n",
            "  warnings.warn(\n"
          ]
        },
        {
          "name": "stdout",
          "output_type": "stream",
          "text": [
            "[0.         0.22866652 0.26347185 1.        ] [3 2 1 0]\n",
            "[0.         0.22866652 0.26347185 1.        ] [3 2 1 0]\n"
          ]
        },
        {
          "name": "stderr",
          "output_type": "stream",
          "text": [
            "/usr/local/lib/python3.8/dist-packages/sklearn/metrics/_ranking.py:999: UndefinedMetricWarning: No positive samples in y_true, true positive value should be meaningless\n",
            "  warnings.warn(\n",
            "/usr/local/lib/python3.8/dist-packages/skmultiflow/data/base_stream.py:191: FutureWarning: 'prepare_for_use' has been deprecated in v0.5.0 and will be removed in v0.7.0.\n",
            "New instances of the Stream class are now ready to use after instantiation.\n",
            "  warnings.warn(\n",
            "/usr/local/lib/python3.8/dist-packages/sklearn/metrics/_ranking.py:999: UndefinedMetricWarning: No positive samples in y_true, true positive value should be meaningless\n",
            "  warnings.warn(\n",
            "/usr/local/lib/python3.8/dist-packages/skmultiflow/data/base_stream.py:191: FutureWarning: 'prepare_for_use' has been deprecated in v0.5.0 and will be removed in v0.7.0.\n",
            "New instances of the Stream class are now ready to use after instantiation.\n",
            "  warnings.warn(\n",
            "/usr/local/lib/python3.8/dist-packages/sklearn/metrics/_ranking.py:999: UndefinedMetricWarning: No positive samples in y_true, true positive value should be meaningless\n",
            "  warnings.warn(\n",
            "<ipython-input-82-5cb4b4e3d316>:85: RuntimeWarning: divide by zero encountered in remainder\n",
            "  i=(p-1)%Y\n",
            "<ipython-input-82-5cb4b4e3d316>:87: RuntimeWarning: divide by zero encountered in remainder\n",
            "  i=i+1%Y\n"
          ]
        },
        {
          "name": "stdout",
          "output_type": "stream",
          "text": [
            "[0.         0.22866652 0.26347185 1.        ] [3 2 1 0]\n",
            "[0.         0.22866652 0.26347185 1.        ] [3 2 1 0]\n",
            "[0.         0.22866652 0.26347185 1.        ] [3 2 1 0]\n"
          ]
        },
        {
          "name": "stderr",
          "output_type": "stream",
          "text": [
            "/usr/local/lib/python3.8/dist-packages/skmultiflow/data/base_stream.py:191: FutureWarning: 'prepare_for_use' has been deprecated in v0.5.0 and will be removed in v0.7.0.\n",
            "New instances of the Stream class are now ready to use after instantiation.\n",
            "  warnings.warn(\n",
            "/usr/local/lib/python3.8/dist-packages/sklearn/metrics/_ranking.py:999: UndefinedMetricWarning: No positive samples in y_true, true positive value should be meaningless\n",
            "  warnings.warn(\n",
            "/usr/local/lib/python3.8/dist-packages/skmultiflow/data/base_stream.py:191: FutureWarning: 'prepare_for_use' has been deprecated in v0.5.0 and will be removed in v0.7.0.\n",
            "New instances of the Stream class are now ready to use after instantiation.\n",
            "  warnings.warn(\n",
            "/usr/local/lib/python3.8/dist-packages/sklearn/metrics/_ranking.py:999: UndefinedMetricWarning: No positive samples in y_true, true positive value should be meaningless\n",
            "  warnings.warn(\n",
            "<ipython-input-82-5cb4b4e3d316>:85: RuntimeWarning: divide by zero encountered in remainder\n",
            "  i=(p-1)%Y\n",
            "<ipython-input-82-5cb4b4e3d316>:87: RuntimeWarning: divide by zero encountered in remainder\n",
            "  i=i+1%Y\n",
            "/usr/local/lib/python3.8/dist-packages/skmultiflow/data/base_stream.py:191: FutureWarning: 'prepare_for_use' has been deprecated in v0.5.0 and will be removed in v0.7.0.\n",
            "New instances of the Stream class are now ready to use after instantiation.\n",
            "  warnings.warn(\n"
          ]
        },
        {
          "name": "stdout",
          "output_type": "stream",
          "text": [
            "[0.         0.22866652 0.26347185 1.        ] [3 2 1 0]\n",
            "[0.         0.22866652 0.26347185 1.        ] [3 2 1 0]\n",
            "[0.         0.22866652 0.26347185 1.        ] [3 2 1 0]\n"
          ]
        },
        {
          "name": "stderr",
          "output_type": "stream",
          "text": [
            "/usr/local/lib/python3.8/dist-packages/sklearn/metrics/_ranking.py:999: UndefinedMetricWarning: No positive samples in y_true, true positive value should be meaningless\n",
            "  warnings.warn(\n",
            "/usr/local/lib/python3.8/dist-packages/skmultiflow/data/base_stream.py:191: FutureWarning: 'prepare_for_use' has been deprecated in v0.5.0 and will be removed in v0.7.0.\n",
            "New instances of the Stream class are now ready to use after instantiation.\n",
            "  warnings.warn(\n",
            "/usr/local/lib/python3.8/dist-packages/sklearn/metrics/_ranking.py:999: UndefinedMetricWarning: No positive samples in y_true, true positive value should be meaningless\n",
            "  warnings.warn(\n",
            "/usr/local/lib/python3.8/dist-packages/skmultiflow/data/base_stream.py:191: FutureWarning: 'prepare_for_use' has been deprecated in v0.5.0 and will be removed in v0.7.0.\n",
            "New instances of the Stream class are now ready to use after instantiation.\n",
            "  warnings.warn(\n",
            "/usr/local/lib/python3.8/dist-packages/sklearn/metrics/_ranking.py:999: UndefinedMetricWarning: No positive samples in y_true, true positive value should be meaningless\n",
            "  warnings.warn(\n"
          ]
        },
        {
          "name": "stdout",
          "output_type": "stream",
          "text": [
            "[0.         0.22866652 0.26347185 1.        ] [3 2 1 0]\n",
            "[0.         0.22866652 0.26347185 1.        ] [3 2 1 0]\n"
          ]
        },
        {
          "name": "stderr",
          "output_type": "stream",
          "text": [
            "/usr/local/lib/python3.8/dist-packages/skmultiflow/data/base_stream.py:191: FutureWarning: 'prepare_for_use' has been deprecated in v0.5.0 and will be removed in v0.7.0.\n",
            "New instances of the Stream class are now ready to use after instantiation.\n",
            "  warnings.warn(\n",
            "/usr/local/lib/python3.8/dist-packages/sklearn/metrics/_ranking.py:999: UndefinedMetricWarning: No positive samples in y_true, true positive value should be meaningless\n",
            "  warnings.warn(\n",
            "<ipython-input-82-5cb4b4e3d316>:85: RuntimeWarning: divide by zero encountered in remainder\n",
            "  i=(p-1)%Y\n",
            "<ipython-input-82-5cb4b4e3d316>:87: RuntimeWarning: divide by zero encountered in remainder\n",
            "  i=i+1%Y\n",
            "/usr/local/lib/python3.8/dist-packages/skmultiflow/data/base_stream.py:191: FutureWarning: 'prepare_for_use' has been deprecated in v0.5.0 and will be removed in v0.7.0.\n",
            "New instances of the Stream class are now ready to use after instantiation.\n",
            "  warnings.warn(\n",
            "/usr/local/lib/python3.8/dist-packages/sklearn/metrics/_ranking.py:999: UndefinedMetricWarning: No positive samples in y_true, true positive value should be meaningless\n",
            "  warnings.warn(\n",
            "<ipython-input-82-5cb4b4e3d316>:85: RuntimeWarning: divide by zero encountered in remainder\n",
            "  i=(p-1)%Y\n",
            "<ipython-input-82-5cb4b4e3d316>:87: RuntimeWarning: divide by zero encountered in remainder\n",
            "  i=i+1%Y\n"
          ]
        },
        {
          "name": "stdout",
          "output_type": "stream",
          "text": [
            "[0.         0.22866652 0.26347185 1.        ] [3 2 1 0]\n",
            "[0.         0.22866652 0.26347185 1.        ] [3 2 1 0]\n",
            "[0.         0.22866652 0.26347185 1.        ] [3 2 1 0]\n"
          ]
        },
        {
          "name": "stderr",
          "output_type": "stream",
          "text": [
            "/usr/local/lib/python3.8/dist-packages/skmultiflow/data/base_stream.py:191: FutureWarning: 'prepare_for_use' has been deprecated in v0.5.0 and will be removed in v0.7.0.\n",
            "New instances of the Stream class are now ready to use after instantiation.\n",
            "  warnings.warn(\n",
            "/usr/local/lib/python3.8/dist-packages/sklearn/metrics/_ranking.py:999: UndefinedMetricWarning: No positive samples in y_true, true positive value should be meaningless\n",
            "  warnings.warn(\n",
            "/usr/local/lib/python3.8/dist-packages/skmultiflow/data/base_stream.py:191: FutureWarning: 'prepare_for_use' has been deprecated in v0.5.0 and will be removed in v0.7.0.\n",
            "New instances of the Stream class are now ready to use after instantiation.\n",
            "  warnings.warn(\n",
            "/usr/local/lib/python3.8/dist-packages/sklearn/metrics/_ranking.py:999: UndefinedMetricWarning: No positive samples in y_true, true positive value should be meaningless\n",
            "  warnings.warn(\n"
          ]
        },
        {
          "name": "stdout",
          "output_type": "stream",
          "text": [
            "[0.         0.22866652 0.26347185 1.        ] [3 2 1 0]\n",
            "[0.         0.22866652 0.26347185 1.        ] [3 2 1 0]\n"
          ]
        },
        {
          "name": "stderr",
          "output_type": "stream",
          "text": [
            "/usr/local/lib/python3.8/dist-packages/skmultiflow/data/base_stream.py:191: FutureWarning: 'prepare_for_use' has been deprecated in v0.5.0 and will be removed in v0.7.0.\n",
            "New instances of the Stream class are now ready to use after instantiation.\n",
            "  warnings.warn(\n",
            "/usr/local/lib/python3.8/dist-packages/sklearn/metrics/_ranking.py:999: UndefinedMetricWarning: No positive samples in y_true, true positive value should be meaningless\n",
            "  warnings.warn(\n",
            "<ipython-input-82-5cb4b4e3d316>:85: RuntimeWarning: divide by zero encountered in remainder\n",
            "  i=(p-1)%Y\n",
            "<ipython-input-82-5cb4b4e3d316>:87: RuntimeWarning: divide by zero encountered in remainder\n",
            "  i=i+1%Y\n",
            "/usr/local/lib/python3.8/dist-packages/skmultiflow/data/base_stream.py:191: FutureWarning: 'prepare_for_use' has been deprecated in v0.5.0 and will be removed in v0.7.0.\n",
            "New instances of the Stream class are now ready to use after instantiation.\n",
            "  warnings.warn(\n",
            "/usr/local/lib/python3.8/dist-packages/sklearn/metrics/_ranking.py:999: UndefinedMetricWarning: No positive samples in y_true, true positive value should be meaningless\n",
            "  warnings.warn(\n"
          ]
        },
        {
          "name": "stdout",
          "output_type": "stream",
          "text": [
            "[0.         0.22866652 0.26347185 1.        ] [3 2 1 0]\n",
            "[0.         0.22866652 0.26347185 1.        ] [3 2 1 0]\n"
          ]
        },
        {
          "name": "stderr",
          "output_type": "stream",
          "text": [
            "/usr/local/lib/python3.8/dist-packages/skmultiflow/data/base_stream.py:191: FutureWarning: 'prepare_for_use' has been deprecated in v0.5.0 and will be removed in v0.7.0.\n",
            "New instances of the Stream class are now ready to use after instantiation.\n",
            "  warnings.warn(\n",
            "/usr/local/lib/python3.8/dist-packages/sklearn/metrics/_ranking.py:999: UndefinedMetricWarning: No positive samples in y_true, true positive value should be meaningless\n",
            "  warnings.warn(\n",
            "<ipython-input-82-5cb4b4e3d316>:85: RuntimeWarning: divide by zero encountered in remainder\n",
            "  i=(p-1)%Y\n",
            "<ipython-input-82-5cb4b4e3d316>:87: RuntimeWarning: divide by zero encountered in remainder\n",
            "  i=i+1%Y\n",
            "/usr/local/lib/python3.8/dist-packages/skmultiflow/data/base_stream.py:191: FutureWarning: 'prepare_for_use' has been deprecated in v0.5.0 and will be removed in v0.7.0.\n",
            "New instances of the Stream class are now ready to use after instantiation.\n",
            "  warnings.warn(\n",
            "/usr/local/lib/python3.8/dist-packages/sklearn/metrics/_ranking.py:999: UndefinedMetricWarning: No positive samples in y_true, true positive value should be meaningless\n",
            "  warnings.warn(\n",
            "<ipython-input-82-5cb4b4e3d316>:85: RuntimeWarning: divide by zero encountered in remainder\n",
            "  i=(p-1)%Y\n",
            "<ipython-input-82-5cb4b4e3d316>:87: RuntimeWarning: divide by zero encountered in remainder\n",
            "  i=i+1%Y\n"
          ]
        },
        {
          "name": "stdout",
          "output_type": "stream",
          "text": [
            "[0.         0.22866652 0.26347185 1.        ] [3 2 1 0]\n",
            "[0.         0.22866652 0.26347185 1.        ] [3 2 1 0]\n"
          ]
        },
        {
          "name": "stderr",
          "output_type": "stream",
          "text": [
            "/usr/local/lib/python3.8/dist-packages/skmultiflow/data/base_stream.py:191: FutureWarning: 'prepare_for_use' has been deprecated in v0.5.0 and will be removed in v0.7.0.\n",
            "New instances of the Stream class are now ready to use after instantiation.\n",
            "  warnings.warn(\n",
            "/usr/local/lib/python3.8/dist-packages/sklearn/metrics/_ranking.py:999: UndefinedMetricWarning: No positive samples in y_true, true positive value should be meaningless\n",
            "  warnings.warn(\n",
            "<ipython-input-82-5cb4b4e3d316>:85: RuntimeWarning: divide by zero encountered in remainder\n",
            "  i=(p-1)%Y\n",
            "<ipython-input-82-5cb4b4e3d316>:87: RuntimeWarning: divide by zero encountered in remainder\n",
            "  i=i+1%Y\n",
            "/usr/local/lib/python3.8/dist-packages/skmultiflow/data/base_stream.py:191: FutureWarning: 'prepare_for_use' has been deprecated in v0.5.0 and will be removed in v0.7.0.\n",
            "New instances of the Stream class are now ready to use after instantiation.\n",
            "  warnings.warn(\n",
            "/usr/local/lib/python3.8/dist-packages/sklearn/metrics/_ranking.py:999: UndefinedMetricWarning: No positive samples in y_true, true positive value should be meaningless\n",
            "  warnings.warn(\n",
            "<ipython-input-82-5cb4b4e3d316>:85: RuntimeWarning: divide by zero encountered in remainder\n",
            "  i=(p-1)%Y\n",
            "<ipython-input-82-5cb4b4e3d316>:87: RuntimeWarning: divide by zero encountered in remainder\n",
            "  i=i+1%Y\n"
          ]
        },
        {
          "name": "stdout",
          "output_type": "stream",
          "text": [
            "[0.         0.22866652 0.26347185 1.        ] [3 2 1 0]\n",
            "[0.         0.22866652 0.26347185 1.        ] [3 2 1 0]\n"
          ]
        },
        {
          "name": "stderr",
          "output_type": "stream",
          "text": [
            "/usr/local/lib/python3.8/dist-packages/skmultiflow/data/base_stream.py:191: FutureWarning: 'prepare_for_use' has been deprecated in v0.5.0 and will be removed in v0.7.0.\n",
            "New instances of the Stream class are now ready to use after instantiation.\n",
            "  warnings.warn(\n",
            "/usr/local/lib/python3.8/dist-packages/sklearn/metrics/_ranking.py:999: UndefinedMetricWarning: No positive samples in y_true, true positive value should be meaningless\n",
            "  warnings.warn(\n",
            "<ipython-input-82-5cb4b4e3d316>:85: RuntimeWarning: divide by zero encountered in remainder\n",
            "  i=(p-1)%Y\n",
            "<ipython-input-82-5cb4b4e3d316>:87: RuntimeWarning: divide by zero encountered in remainder\n",
            "  i=i+1%Y\n",
            "/usr/local/lib/python3.8/dist-packages/skmultiflow/data/base_stream.py:191: FutureWarning: 'prepare_for_use' has been deprecated in v0.5.0 and will be removed in v0.7.0.\n",
            "New instances of the Stream class are now ready to use after instantiation.\n",
            "  warnings.warn(\n",
            "/usr/local/lib/python3.8/dist-packages/sklearn/metrics/_ranking.py:999: UndefinedMetricWarning: No positive samples in y_true, true positive value should be meaningless\n",
            "  warnings.warn(\n",
            "<ipython-input-82-5cb4b4e3d316>:85: RuntimeWarning: divide by zero encountered in remainder\n",
            "  i=(p-1)%Y\n",
            "<ipython-input-82-5cb4b4e3d316>:87: RuntimeWarning: divide by zero encountered in remainder\n",
            "  i=i+1%Y\n"
          ]
        },
        {
          "name": "stdout",
          "output_type": "stream",
          "text": [
            "[0.         0.22866652 0.26347185 1.        ] [3 2 1 0]\n",
            "[0.         0.22866652 0.26347185 1.        ] [3 2 1 0]\n"
          ]
        },
        {
          "name": "stderr",
          "output_type": "stream",
          "text": [
            "/usr/local/lib/python3.8/dist-packages/skmultiflow/data/base_stream.py:191: FutureWarning: 'prepare_for_use' has been deprecated in v0.5.0 and will be removed in v0.7.0.\n",
            "New instances of the Stream class are now ready to use after instantiation.\n",
            "  warnings.warn(\n",
            "/usr/local/lib/python3.8/dist-packages/sklearn/metrics/_ranking.py:999: UndefinedMetricWarning: No positive samples in y_true, true positive value should be meaningless\n",
            "  warnings.warn(\n",
            "<ipython-input-82-5cb4b4e3d316>:85: RuntimeWarning: divide by zero encountered in remainder\n",
            "  i=(p-1)%Y\n",
            "<ipython-input-82-5cb4b4e3d316>:87: RuntimeWarning: divide by zero encountered in remainder\n",
            "  i=i+1%Y\n",
            "/usr/local/lib/python3.8/dist-packages/skmultiflow/data/base_stream.py:191: FutureWarning: 'prepare_for_use' has been deprecated in v0.5.0 and will be removed in v0.7.0.\n",
            "New instances of the Stream class are now ready to use after instantiation.\n",
            "  warnings.warn(\n",
            "/usr/local/lib/python3.8/dist-packages/sklearn/metrics/_ranking.py:999: UndefinedMetricWarning: No positive samples in y_true, true positive value should be meaningless\n",
            "  warnings.warn(\n",
            "<ipython-input-82-5cb4b4e3d316>:85: RuntimeWarning: divide by zero encountered in remainder\n",
            "  i=(p-1)%Y\n",
            "<ipython-input-82-5cb4b4e3d316>:87: RuntimeWarning: divide by zero encountered in remainder\n",
            "  i=i+1%Y\n"
          ]
        },
        {
          "name": "stdout",
          "output_type": "stream",
          "text": [
            "[0.         0.22866652 0.26347185 1.        ] [3 2 1 0]\n",
            "[0.         0.22866652 0.26347185 1.        ] [3 2 1 0]\n"
          ]
        },
        {
          "name": "stderr",
          "output_type": "stream",
          "text": [
            "/usr/local/lib/python3.8/dist-packages/skmultiflow/data/base_stream.py:191: FutureWarning: 'prepare_for_use' has been deprecated in v0.5.0 and will be removed in v0.7.0.\n",
            "New instances of the Stream class are now ready to use after instantiation.\n",
            "  warnings.warn(\n",
            "/usr/local/lib/python3.8/dist-packages/sklearn/metrics/_ranking.py:999: UndefinedMetricWarning: No positive samples in y_true, true positive value should be meaningless\n",
            "  warnings.warn(\n",
            "<ipython-input-82-5cb4b4e3d316>:85: RuntimeWarning: divide by zero encountered in remainder\n",
            "  i=(p-1)%Y\n",
            "<ipython-input-82-5cb4b4e3d316>:87: RuntimeWarning: divide by zero encountered in remainder\n",
            "  i=i+1%Y\n",
            "/usr/local/lib/python3.8/dist-packages/skmultiflow/data/base_stream.py:191: FutureWarning: 'prepare_for_use' has been deprecated in v0.5.0 and will be removed in v0.7.0.\n",
            "New instances of the Stream class are now ready to use after instantiation.\n",
            "  warnings.warn(\n",
            "/usr/local/lib/python3.8/dist-packages/sklearn/metrics/_ranking.py:999: UndefinedMetricWarning: No positive samples in y_true, true positive value should be meaningless\n",
            "  warnings.warn(\n"
          ]
        },
        {
          "name": "stdout",
          "output_type": "stream",
          "text": [
            "[0.         0.22866652 0.26347185 1.        ] [3 2 1 0]\n",
            "[0.         0.22866652 0.26347185 1.        ] [3 2 1 0]\n"
          ]
        },
        {
          "name": "stderr",
          "output_type": "stream",
          "text": [
            "/usr/local/lib/python3.8/dist-packages/skmultiflow/data/base_stream.py:191: FutureWarning: 'prepare_for_use' has been deprecated in v0.5.0 and will be removed in v0.7.0.\n",
            "New instances of the Stream class are now ready to use after instantiation.\n",
            "  warnings.warn(\n",
            "/usr/local/lib/python3.8/dist-packages/sklearn/metrics/_ranking.py:999: UndefinedMetricWarning: No positive samples in y_true, true positive value should be meaningless\n",
            "  warnings.warn(\n",
            "<ipython-input-82-5cb4b4e3d316>:85: RuntimeWarning: divide by zero encountered in remainder\n",
            "  i=(p-1)%Y\n",
            "<ipython-input-82-5cb4b4e3d316>:87: RuntimeWarning: divide by zero encountered in remainder\n",
            "  i=i+1%Y\n",
            "/usr/local/lib/python3.8/dist-packages/skmultiflow/data/base_stream.py:191: FutureWarning: 'prepare_for_use' has been deprecated in v0.5.0 and will be removed in v0.7.0.\n",
            "New instances of the Stream class are now ready to use after instantiation.\n",
            "  warnings.warn(\n",
            "/usr/local/lib/python3.8/dist-packages/sklearn/metrics/_ranking.py:999: UndefinedMetricWarning: No positive samples in y_true, true positive value should be meaningless\n",
            "  warnings.warn(\n",
            "<ipython-input-82-5cb4b4e3d316>:85: RuntimeWarning: divide by zero encountered in remainder\n",
            "  i=(p-1)%Y\n",
            "<ipython-input-82-5cb4b4e3d316>:87: RuntimeWarning: divide by zero encountered in remainder\n",
            "  i=i+1%Y\n"
          ]
        },
        {
          "name": "stdout",
          "output_type": "stream",
          "text": [
            "[0.         0.22866652 0.26347185 1.        ] [3 2 1 0]\n",
            "[0.         0.22866652 0.26347185 1.        ] [3 2 1 0]\n"
          ]
        },
        {
          "name": "stderr",
          "output_type": "stream",
          "text": [
            "/usr/local/lib/python3.8/dist-packages/skmultiflow/data/base_stream.py:191: FutureWarning: 'prepare_for_use' has been deprecated in v0.5.0 and will be removed in v0.7.0.\n",
            "New instances of the Stream class are now ready to use after instantiation.\n",
            "  warnings.warn(\n",
            "/usr/local/lib/python3.8/dist-packages/sklearn/metrics/_ranking.py:999: UndefinedMetricWarning: No positive samples in y_true, true positive value should be meaningless\n",
            "  warnings.warn(\n",
            "<ipython-input-82-5cb4b4e3d316>:85: RuntimeWarning: divide by zero encountered in remainder\n",
            "  i=(p-1)%Y\n",
            "<ipython-input-82-5cb4b4e3d316>:87: RuntimeWarning: divide by zero encountered in remainder\n",
            "  i=i+1%Y\n",
            "/usr/local/lib/python3.8/dist-packages/skmultiflow/data/base_stream.py:191: FutureWarning: 'prepare_for_use' has been deprecated in v0.5.0 and will be removed in v0.7.0.\n",
            "New instances of the Stream class are now ready to use after instantiation.\n",
            "  warnings.warn(\n",
            "/usr/local/lib/python3.8/dist-packages/sklearn/metrics/_ranking.py:999: UndefinedMetricWarning: No positive samples in y_true, true positive value should be meaningless\n",
            "  warnings.warn(\n"
          ]
        },
        {
          "name": "stdout",
          "output_type": "stream",
          "text": [
            "[0.         0.22866652 0.26347185 1.        ] [3 2 1 0]\n",
            "[0.         0.22866652 0.26347185 1.        ] [3 2 1 0]\n"
          ]
        },
        {
          "name": "stderr",
          "output_type": "stream",
          "text": [
            "/usr/local/lib/python3.8/dist-packages/skmultiflow/data/base_stream.py:191: FutureWarning: 'prepare_for_use' has been deprecated in v0.5.0 and will be removed in v0.7.0.\n",
            "New instances of the Stream class are now ready to use after instantiation.\n",
            "  warnings.warn(\n",
            "/usr/local/lib/python3.8/dist-packages/sklearn/metrics/_ranking.py:999: UndefinedMetricWarning: No positive samples in y_true, true positive value should be meaningless\n",
            "  warnings.warn(\n",
            "<ipython-input-82-5cb4b4e3d316>:85: RuntimeWarning: divide by zero encountered in remainder\n",
            "  i=(p-1)%Y\n",
            "<ipython-input-82-5cb4b4e3d316>:87: RuntimeWarning: divide by zero encountered in remainder\n",
            "  i=i+1%Y\n",
            "/usr/local/lib/python3.8/dist-packages/skmultiflow/data/base_stream.py:191: FutureWarning: 'prepare_for_use' has been deprecated in v0.5.0 and will be removed in v0.7.0.\n",
            "New instances of the Stream class are now ready to use after instantiation.\n",
            "  warnings.warn(\n",
            "/usr/local/lib/python3.8/dist-packages/sklearn/metrics/_ranking.py:999: UndefinedMetricWarning: No positive samples in y_true, true positive value should be meaningless\n",
            "  warnings.warn(\n",
            "/usr/local/lib/python3.8/dist-packages/skmultiflow/data/base_stream.py:191: FutureWarning: 'prepare_for_use' has been deprecated in v0.5.0 and will be removed in v0.7.0.\n",
            "New instances of the Stream class are now ready to use after instantiation.\n",
            "  warnings.warn(\n"
          ]
        },
        {
          "name": "stdout",
          "output_type": "stream",
          "text": [
            "[0.         0.22866652 0.26347185 1.        ] [3 2 1 0]\n",
            "[0.         0.22866652 0.26347185 1.        ] [3 2 1 0]\n",
            "[0.         0.22866652 0.26347185 1.        ] [3 2 1 0]\n"
          ]
        },
        {
          "name": "stderr",
          "output_type": "stream",
          "text": [
            "/usr/local/lib/python3.8/dist-packages/sklearn/metrics/_ranking.py:999: UndefinedMetricWarning: No positive samples in y_true, true positive value should be meaningless\n",
            "  warnings.warn(\n",
            "<ipython-input-82-5cb4b4e3d316>:85: RuntimeWarning: divide by zero encountered in remainder\n",
            "  i=(p-1)%Y\n",
            "<ipython-input-82-5cb4b4e3d316>:87: RuntimeWarning: divide by zero encountered in remainder\n",
            "  i=i+1%Y\n",
            "/usr/local/lib/python3.8/dist-packages/skmultiflow/data/base_stream.py:191: FutureWarning: 'prepare_for_use' has been deprecated in v0.5.0 and will be removed in v0.7.0.\n",
            "New instances of the Stream class are now ready to use after instantiation.\n",
            "  warnings.warn(\n",
            "/usr/local/lib/python3.8/dist-packages/sklearn/metrics/_ranking.py:999: UndefinedMetricWarning: No positive samples in y_true, true positive value should be meaningless\n",
            "  warnings.warn(\n",
            "/usr/local/lib/python3.8/dist-packages/skmultiflow/data/base_stream.py:191: FutureWarning: 'prepare_for_use' has been deprecated in v0.5.0 and will be removed in v0.7.0.\n",
            "New instances of the Stream class are now ready to use after instantiation.\n",
            "  warnings.warn(\n",
            "/usr/local/lib/python3.8/dist-packages/sklearn/metrics/_ranking.py:999: UndefinedMetricWarning: No positive samples in y_true, true positive value should be meaningless\n",
            "  warnings.warn(\n",
            "<ipython-input-82-5cb4b4e3d316>:85: RuntimeWarning: divide by zero encountered in remainder\n",
            "  i=(p-1)%Y\n",
            "<ipython-input-82-5cb4b4e3d316>:87: RuntimeWarning: divide by zero encountered in remainder\n",
            "  i=i+1%Y\n",
            "/usr/local/lib/python3.8/dist-packages/skmultiflow/data/base_stream.py:191: FutureWarning: 'prepare_for_use' has been deprecated in v0.5.0 and will be removed in v0.7.0.\n",
            "New instances of the Stream class are now ready to use after instantiation.\n",
            "  warnings.warn(\n",
            "/usr/local/lib/python3.8/dist-packages/sklearn/metrics/_ranking.py:999: UndefinedMetricWarning: No positive samples in y_true, true positive value should be meaningless\n",
            "  warnings.warn(\n",
            "/usr/local/lib/python3.8/dist-packages/skmultiflow/data/base_stream.py:191: FutureWarning: 'prepare_for_use' has been deprecated in v0.5.0 and will be removed in v0.7.0.\n",
            "New instances of the Stream class are now ready to use after instantiation.\n",
            "  warnings.warn(\n"
          ]
        },
        {
          "name": "stdout",
          "output_type": "stream",
          "text": [
            "[0.         0.22866652 0.26347185 1.        ] [3 2 1 0]\n",
            "[0.         0.22866652 0.26347185 1.        ] [3 2 1 0]\n"
          ]
        },
        {
          "name": "stderr",
          "output_type": "stream",
          "text": [
            "/usr/local/lib/python3.8/dist-packages/sklearn/metrics/_ranking.py:999: UndefinedMetricWarning: No positive samples in y_true, true positive value should be meaningless\n",
            "  warnings.warn(\n",
            "/usr/local/lib/python3.8/dist-packages/skmultiflow/data/base_stream.py:191: FutureWarning: 'prepare_for_use' has been deprecated in v0.5.0 and will be removed in v0.7.0.\n",
            "New instances of the Stream class are now ready to use after instantiation.\n",
            "  warnings.warn(\n",
            "/usr/local/lib/python3.8/dist-packages/sklearn/metrics/_ranking.py:999: UndefinedMetricWarning: No positive samples in y_true, true positive value should be meaningless\n",
            "  warnings.warn(\n",
            "<ipython-input-82-5cb4b4e3d316>:85: RuntimeWarning: divide by zero encountered in remainder\n",
            "  i=(p-1)%Y\n",
            "<ipython-input-82-5cb4b4e3d316>:87: RuntimeWarning: divide by zero encountered in remainder\n",
            "  i=i+1%Y\n",
            "/usr/local/lib/python3.8/dist-packages/skmultiflow/data/base_stream.py:191: FutureWarning: 'prepare_for_use' has been deprecated in v0.5.0 and will be removed in v0.7.0.\n",
            "New instances of the Stream class are now ready to use after instantiation.\n",
            "  warnings.warn(\n"
          ]
        },
        {
          "name": "stdout",
          "output_type": "stream",
          "text": [
            "[0.         0.22866652 0.26347185 1.        ] [3 2 1 0]\n",
            "[0.         0.22866652 0.26347185 1.        ] [3 2 1 0]\n"
          ]
        },
        {
          "name": "stderr",
          "output_type": "stream",
          "text": [
            "/usr/local/lib/python3.8/dist-packages/sklearn/metrics/_ranking.py:999: UndefinedMetricWarning: No positive samples in y_true, true positive value should be meaningless\n",
            "  warnings.warn(\n",
            "<ipython-input-82-5cb4b4e3d316>:85: RuntimeWarning: divide by zero encountered in remainder\n",
            "  i=(p-1)%Y\n",
            "<ipython-input-82-5cb4b4e3d316>:87: RuntimeWarning: divide by zero encountered in remainder\n",
            "  i=i+1%Y\n",
            "/usr/local/lib/python3.8/dist-packages/skmultiflow/data/base_stream.py:191: FutureWarning: 'prepare_for_use' has been deprecated in v0.5.0 and will be removed in v0.7.0.\n",
            "New instances of the Stream class are now ready to use after instantiation.\n",
            "  warnings.warn(\n",
            "/usr/local/lib/python3.8/dist-packages/sklearn/metrics/_ranking.py:999: UndefinedMetricWarning: No positive samples in y_true, true positive value should be meaningless\n",
            "  warnings.warn(\n",
            "/usr/local/lib/python3.8/dist-packages/skmultiflow/data/base_stream.py:191: FutureWarning: 'prepare_for_use' has been deprecated in v0.5.0 and will be removed in v0.7.0.\n",
            "New instances of the Stream class are now ready to use after instantiation.\n",
            "  warnings.warn(\n"
          ]
        },
        {
          "name": "stdout",
          "output_type": "stream",
          "text": [
            "[0.         0.22866652 0.26347185 1.        ] [3 2 1 0]\n",
            "[0.         0.22866652 0.26347185 1.        ] [3 2 1 0]\n"
          ]
        },
        {
          "name": "stderr",
          "output_type": "stream",
          "text": [
            "/usr/local/lib/python3.8/dist-packages/sklearn/metrics/_ranking.py:999: UndefinedMetricWarning: No positive samples in y_true, true positive value should be meaningless\n",
            "  warnings.warn(\n",
            "<ipython-input-82-5cb4b4e3d316>:85: RuntimeWarning: divide by zero encountered in remainder\n",
            "  i=(p-1)%Y\n",
            "<ipython-input-82-5cb4b4e3d316>:87: RuntimeWarning: divide by zero encountered in remainder\n",
            "  i=i+1%Y\n",
            "/usr/local/lib/python3.8/dist-packages/skmultiflow/data/base_stream.py:191: FutureWarning: 'prepare_for_use' has been deprecated in v0.5.0 and will be removed in v0.7.0.\n",
            "New instances of the Stream class are now ready to use after instantiation.\n",
            "  warnings.warn(\n",
            "/usr/local/lib/python3.8/dist-packages/sklearn/metrics/_ranking.py:999: UndefinedMetricWarning: No positive samples in y_true, true positive value should be meaningless\n",
            "  warnings.warn(\n",
            "<ipython-input-82-5cb4b4e3d316>:85: RuntimeWarning: divide by zero encountered in remainder\n",
            "  i=(p-1)%Y\n",
            "<ipython-input-82-5cb4b4e3d316>:87: RuntimeWarning: divide by zero encountered in remainder\n",
            "  i=i+1%Y\n",
            "/usr/local/lib/python3.8/dist-packages/skmultiflow/data/base_stream.py:191: FutureWarning: 'prepare_for_use' has been deprecated in v0.5.0 and will be removed in v0.7.0.\n",
            "New instances of the Stream class are now ready to use after instantiation.\n",
            "  warnings.warn(\n"
          ]
        },
        {
          "name": "stdout",
          "output_type": "stream",
          "text": [
            "[0.         0.22866652 0.26347185 1.        ] [3 2 1 0]\n",
            "[0.         0.22866652 0.26347185 1.        ] [3 2 1 0]\n"
          ]
        },
        {
          "name": "stderr",
          "output_type": "stream",
          "text": [
            "/usr/local/lib/python3.8/dist-packages/sklearn/metrics/_ranking.py:999: UndefinedMetricWarning: No positive samples in y_true, true positive value should be meaningless\n",
            "  warnings.warn(\n",
            "<ipython-input-82-5cb4b4e3d316>:85: RuntimeWarning: divide by zero encountered in remainder\n",
            "  i=(p-1)%Y\n",
            "<ipython-input-82-5cb4b4e3d316>:87: RuntimeWarning: divide by zero encountered in remainder\n",
            "  i=i+1%Y\n",
            "/usr/local/lib/python3.8/dist-packages/skmultiflow/data/base_stream.py:191: FutureWarning: 'prepare_for_use' has been deprecated in v0.5.0 and will be removed in v0.7.0.\n",
            "New instances of the Stream class are now ready to use after instantiation.\n",
            "  warnings.warn(\n",
            "/usr/local/lib/python3.8/dist-packages/sklearn/metrics/_ranking.py:999: UndefinedMetricWarning: No positive samples in y_true, true positive value should be meaningless\n",
            "  warnings.warn(\n",
            "/usr/local/lib/python3.8/dist-packages/skmultiflow/data/base_stream.py:191: FutureWarning: 'prepare_for_use' has been deprecated in v0.5.0 and will be removed in v0.7.0.\n",
            "New instances of the Stream class are now ready to use after instantiation.\n",
            "  warnings.warn(\n"
          ]
        },
        {
          "name": "stdout",
          "output_type": "stream",
          "text": [
            "[0.         0.22866652 0.26347185 1.        ] [3 2 1 0]\n",
            "[0.         0.22866652 0.26347185 1.        ] [3 2 1 0]\n"
          ]
        },
        {
          "name": "stderr",
          "output_type": "stream",
          "text": [
            "/usr/local/lib/python3.8/dist-packages/sklearn/metrics/_ranking.py:999: UndefinedMetricWarning: No positive samples in y_true, true positive value should be meaningless\n",
            "  warnings.warn(\n",
            "<ipython-input-82-5cb4b4e3d316>:85: RuntimeWarning: divide by zero encountered in remainder\n",
            "  i=(p-1)%Y\n",
            "<ipython-input-82-5cb4b4e3d316>:87: RuntimeWarning: divide by zero encountered in remainder\n",
            "  i=i+1%Y\n",
            "/usr/local/lib/python3.8/dist-packages/skmultiflow/data/base_stream.py:191: FutureWarning: 'prepare_for_use' has been deprecated in v0.5.0 and will be removed in v0.7.0.\n",
            "New instances of the Stream class are now ready to use after instantiation.\n",
            "  warnings.warn(\n",
            "/usr/local/lib/python3.8/dist-packages/sklearn/metrics/_ranking.py:999: UndefinedMetricWarning: No positive samples in y_true, true positive value should be meaningless\n",
            "  warnings.warn(\n",
            "<ipython-input-82-5cb4b4e3d316>:85: RuntimeWarning: divide by zero encountered in remainder\n",
            "  i=(p-1)%Y\n",
            "<ipython-input-82-5cb4b4e3d316>:87: RuntimeWarning: divide by zero encountered in remainder\n",
            "  i=i+1%Y\n",
            "/usr/local/lib/python3.8/dist-packages/skmultiflow/data/base_stream.py:191: FutureWarning: 'prepare_for_use' has been deprecated in v0.5.0 and will be removed in v0.7.0.\n",
            "New instances of the Stream class are now ready to use after instantiation.\n",
            "  warnings.warn(\n"
          ]
        },
        {
          "name": "stdout",
          "output_type": "stream",
          "text": [
            "[0.         0.22866652 0.26347185 1.        ] [3 2 1 0]\n",
            "[0.         0.22866652 0.26347185 1.        ] [3 2 1 0]\n"
          ]
        },
        {
          "name": "stderr",
          "output_type": "stream",
          "text": [
            "/usr/local/lib/python3.8/dist-packages/sklearn/metrics/_ranking.py:999: UndefinedMetricWarning: No positive samples in y_true, true positive value should be meaningless\n",
            "  warnings.warn(\n",
            "<ipython-input-82-5cb4b4e3d316>:85: RuntimeWarning: divide by zero encountered in remainder\n",
            "  i=(p-1)%Y\n",
            "<ipython-input-82-5cb4b4e3d316>:87: RuntimeWarning: divide by zero encountered in remainder\n",
            "  i=i+1%Y\n",
            "/usr/local/lib/python3.8/dist-packages/skmultiflow/data/base_stream.py:191: FutureWarning: 'prepare_for_use' has been deprecated in v0.5.0 and will be removed in v0.7.0.\n",
            "New instances of the Stream class are now ready to use after instantiation.\n",
            "  warnings.warn(\n",
            "/usr/local/lib/python3.8/dist-packages/sklearn/metrics/_ranking.py:999: UndefinedMetricWarning: No positive samples in y_true, true positive value should be meaningless\n",
            "  warnings.warn(\n",
            "/usr/local/lib/python3.8/dist-packages/skmultiflow/data/base_stream.py:191: FutureWarning: 'prepare_for_use' has been deprecated in v0.5.0 and will be removed in v0.7.0.\n",
            "New instances of the Stream class are now ready to use after instantiation.\n",
            "  warnings.warn(\n"
          ]
        },
        {
          "name": "stdout",
          "output_type": "stream",
          "text": [
            "[0.         0.22866652 0.26347185 1.        ] [3 2 1 0]\n",
            "[0.         0.22866652 0.26347185 1.        ] [3 2 1 0]\n"
          ]
        },
        {
          "name": "stderr",
          "output_type": "stream",
          "text": [
            "/usr/local/lib/python3.8/dist-packages/sklearn/metrics/_ranking.py:999: UndefinedMetricWarning: No positive samples in y_true, true positive value should be meaningless\n",
            "  warnings.warn(\n",
            "<ipython-input-82-5cb4b4e3d316>:85: RuntimeWarning: divide by zero encountered in remainder\n",
            "  i=(p-1)%Y\n",
            "<ipython-input-82-5cb4b4e3d316>:87: RuntimeWarning: divide by zero encountered in remainder\n",
            "  i=i+1%Y\n",
            "/usr/local/lib/python3.8/dist-packages/skmultiflow/data/base_stream.py:191: FutureWarning: 'prepare_for_use' has been deprecated in v0.5.0 and will be removed in v0.7.0.\n",
            "New instances of the Stream class are now ready to use after instantiation.\n",
            "  warnings.warn(\n",
            "/usr/local/lib/python3.8/dist-packages/sklearn/metrics/_ranking.py:999: UndefinedMetricWarning: No positive samples in y_true, true positive value should be meaningless\n",
            "  warnings.warn(\n",
            "<ipython-input-82-5cb4b4e3d316>:85: RuntimeWarning: divide by zero encountered in remainder\n",
            "  i=(p-1)%Y\n",
            "<ipython-input-82-5cb4b4e3d316>:87: RuntimeWarning: divide by zero encountered in remainder\n",
            "  i=i+1%Y\n",
            "/usr/local/lib/python3.8/dist-packages/skmultiflow/data/base_stream.py:191: FutureWarning: 'prepare_for_use' has been deprecated in v0.5.0 and will be removed in v0.7.0.\n",
            "New instances of the Stream class are now ready to use after instantiation.\n",
            "  warnings.warn(\n"
          ]
        },
        {
          "name": "stdout",
          "output_type": "stream",
          "text": [
            "[0.         0.22866652 0.26347185 1.        ] [3 2 1 0]\n",
            "[0.         0.22866652 0.26347185 1.        ] [3 2 1 0]\n"
          ]
        },
        {
          "name": "stderr",
          "output_type": "stream",
          "text": [
            "/usr/local/lib/python3.8/dist-packages/sklearn/metrics/_ranking.py:999: UndefinedMetricWarning: No positive samples in y_true, true positive value should be meaningless\n",
            "  warnings.warn(\n",
            "<ipython-input-82-5cb4b4e3d316>:85: RuntimeWarning: divide by zero encountered in remainder\n",
            "  i=(p-1)%Y\n",
            "<ipython-input-82-5cb4b4e3d316>:87: RuntimeWarning: divide by zero encountered in remainder\n",
            "  i=i+1%Y\n",
            "/usr/local/lib/python3.8/dist-packages/skmultiflow/data/base_stream.py:191: FutureWarning: 'prepare_for_use' has been deprecated in v0.5.0 and will be removed in v0.7.0.\n",
            "New instances of the Stream class are now ready to use after instantiation.\n",
            "  warnings.warn(\n",
            "/usr/local/lib/python3.8/dist-packages/sklearn/metrics/_ranking.py:999: UndefinedMetricWarning: No positive samples in y_true, true positive value should be meaningless\n",
            "  warnings.warn(\n",
            "<ipython-input-82-5cb4b4e3d316>:85: RuntimeWarning: divide by zero encountered in remainder\n",
            "  i=(p-1)%Y\n",
            "<ipython-input-82-5cb4b4e3d316>:87: RuntimeWarning: divide by zero encountered in remainder\n",
            "  i=i+1%Y\n",
            "/usr/local/lib/python3.8/dist-packages/skmultiflow/data/base_stream.py:191: FutureWarning: 'prepare_for_use' has been deprecated in v0.5.0 and will be removed in v0.7.0.\n",
            "New instances of the Stream class are now ready to use after instantiation.\n",
            "  warnings.warn(\n"
          ]
        },
        {
          "name": "stdout",
          "output_type": "stream",
          "text": [
            "[0.         0.22866652 0.26347185 1.        ] [3 2 1 0]\n",
            "[0.         0.22866652 0.26347185 1.        ] [3 2 1 0]\n"
          ]
        },
        {
          "name": "stderr",
          "output_type": "stream",
          "text": [
            "/usr/local/lib/python3.8/dist-packages/sklearn/metrics/_ranking.py:999: UndefinedMetricWarning: No positive samples in y_true, true positive value should be meaningless\n",
            "  warnings.warn(\n",
            "<ipython-input-82-5cb4b4e3d316>:85: RuntimeWarning: divide by zero encountered in remainder\n",
            "  i=(p-1)%Y\n",
            "<ipython-input-82-5cb4b4e3d316>:87: RuntimeWarning: divide by zero encountered in remainder\n",
            "  i=i+1%Y\n",
            "/usr/local/lib/python3.8/dist-packages/skmultiflow/data/base_stream.py:191: FutureWarning: 'prepare_for_use' has been deprecated in v0.5.0 and will be removed in v0.7.0.\n",
            "New instances of the Stream class are now ready to use after instantiation.\n",
            "  warnings.warn(\n",
            "/usr/local/lib/python3.8/dist-packages/sklearn/metrics/_ranking.py:999: UndefinedMetricWarning: No positive samples in y_true, true positive value should be meaningless\n",
            "  warnings.warn(\n",
            "<ipython-input-82-5cb4b4e3d316>:85: RuntimeWarning: divide by zero encountered in remainder\n",
            "  i=(p-1)%Y\n",
            "<ipython-input-82-5cb4b4e3d316>:87: RuntimeWarning: divide by zero encountered in remainder\n",
            "  i=i+1%Y\n",
            "/usr/local/lib/python3.8/dist-packages/skmultiflow/data/base_stream.py:191: FutureWarning: 'prepare_for_use' has been deprecated in v0.5.0 and will be removed in v0.7.0.\n",
            "New instances of the Stream class are now ready to use after instantiation.\n",
            "  warnings.warn(\n"
          ]
        },
        {
          "name": "stdout",
          "output_type": "stream",
          "text": [
            "[0.         0.22866652 0.26347185 1.        ] [3 2 1 0]\n",
            "[0.         0.22866652 0.26347185 1.        ] [3 2 1 0]\n"
          ]
        },
        {
          "name": "stderr",
          "output_type": "stream",
          "text": [
            "/usr/local/lib/python3.8/dist-packages/sklearn/metrics/_ranking.py:999: UndefinedMetricWarning: No positive samples in y_true, true positive value should be meaningless\n",
            "  warnings.warn(\n",
            "<ipython-input-82-5cb4b4e3d316>:85: RuntimeWarning: divide by zero encountered in remainder\n",
            "  i=(p-1)%Y\n",
            "<ipython-input-82-5cb4b4e3d316>:87: RuntimeWarning: divide by zero encountered in remainder\n",
            "  i=i+1%Y\n",
            "/usr/local/lib/python3.8/dist-packages/skmultiflow/data/base_stream.py:191: FutureWarning: 'prepare_for_use' has been deprecated in v0.5.0 and will be removed in v0.7.0.\n",
            "New instances of the Stream class are now ready to use after instantiation.\n",
            "  warnings.warn(\n",
            "/usr/local/lib/python3.8/dist-packages/sklearn/metrics/_ranking.py:999: UndefinedMetricWarning: No positive samples in y_true, true positive value should be meaningless\n",
            "  warnings.warn(\n",
            "<ipython-input-82-5cb4b4e3d316>:85: RuntimeWarning: divide by zero encountered in remainder\n",
            "  i=(p-1)%Y\n",
            "<ipython-input-82-5cb4b4e3d316>:87: RuntimeWarning: divide by zero encountered in remainder\n",
            "  i=i+1%Y\n",
            "/usr/local/lib/python3.8/dist-packages/skmultiflow/data/base_stream.py:191: FutureWarning: 'prepare_for_use' has been deprecated in v0.5.0 and will be removed in v0.7.0.\n",
            "New instances of the Stream class are now ready to use after instantiation.\n",
            "  warnings.warn(\n"
          ]
        },
        {
          "name": "stdout",
          "output_type": "stream",
          "text": [
            "[0.         0.22866652 0.26347185 1.        ] [3 2 1 0]\n",
            "[0.         0.22866652 0.26347185 1.        ] [3 2 1 0]\n"
          ]
        },
        {
          "name": "stderr",
          "output_type": "stream",
          "text": [
            "/usr/local/lib/python3.8/dist-packages/sklearn/metrics/_ranking.py:999: UndefinedMetricWarning: No positive samples in y_true, true positive value should be meaningless\n",
            "  warnings.warn(\n",
            "/usr/local/lib/python3.8/dist-packages/skmultiflow/data/base_stream.py:191: FutureWarning: 'prepare_for_use' has been deprecated in v0.5.0 and will be removed in v0.7.0.\n",
            "New instances of the Stream class are now ready to use after instantiation.\n",
            "  warnings.warn(\n",
            "/usr/local/lib/python3.8/dist-packages/sklearn/metrics/_ranking.py:999: UndefinedMetricWarning: No positive samples in y_true, true positive value should be meaningless\n",
            "  warnings.warn(\n",
            "<ipython-input-82-5cb4b4e3d316>:85: RuntimeWarning: divide by zero encountered in remainder\n",
            "  i=(p-1)%Y\n",
            "<ipython-input-82-5cb4b4e3d316>:87: RuntimeWarning: divide by zero encountered in remainder\n",
            "  i=i+1%Y\n",
            "/usr/local/lib/python3.8/dist-packages/skmultiflow/data/base_stream.py:191: FutureWarning: 'prepare_for_use' has been deprecated in v0.5.0 and will be removed in v0.7.0.\n",
            "New instances of the Stream class are now ready to use after instantiation.\n",
            "  warnings.warn(\n"
          ]
        },
        {
          "name": "stdout",
          "output_type": "stream",
          "text": [
            "[0.         0.22866652 0.26347185 1.        ] [3 2 1 0]\n",
            "[0.         0.22866652 0.26347185 1.        ] [3 2 1 0]\n"
          ]
        },
        {
          "name": "stderr",
          "output_type": "stream",
          "text": [
            "/usr/local/lib/python3.8/dist-packages/sklearn/metrics/_ranking.py:999: UndefinedMetricWarning: No positive samples in y_true, true positive value should be meaningless\n",
            "  warnings.warn(\n",
            "/usr/local/lib/python3.8/dist-packages/skmultiflow/data/base_stream.py:191: FutureWarning: 'prepare_for_use' has been deprecated in v0.5.0 and will be removed in v0.7.0.\n",
            "New instances of the Stream class are now ready to use after instantiation.\n",
            "  warnings.warn(\n",
            "/usr/local/lib/python3.8/dist-packages/sklearn/metrics/_ranking.py:999: UndefinedMetricWarning: No positive samples in y_true, true positive value should be meaningless\n",
            "  warnings.warn(\n",
            "<ipython-input-82-5cb4b4e3d316>:85: RuntimeWarning: divide by zero encountered in remainder\n",
            "  i=(p-1)%Y\n",
            "<ipython-input-82-5cb4b4e3d316>:87: RuntimeWarning: divide by zero encountered in remainder\n",
            "  i=i+1%Y\n",
            "/usr/local/lib/python3.8/dist-packages/skmultiflow/data/base_stream.py:191: FutureWarning: 'prepare_for_use' has been deprecated in v0.5.0 and will be removed in v0.7.0.\n",
            "New instances of the Stream class are now ready to use after instantiation.\n",
            "  warnings.warn(\n"
          ]
        },
        {
          "name": "stdout",
          "output_type": "stream",
          "text": [
            "[0.         0.22866652 0.26347185 1.        ] [3 2 1 0]\n",
            "[0.         0.22866652 0.26347185 1.        ] [3 2 1 0]\n"
          ]
        },
        {
          "name": "stderr",
          "output_type": "stream",
          "text": [
            "/usr/local/lib/python3.8/dist-packages/sklearn/metrics/_ranking.py:999: UndefinedMetricWarning: No positive samples in y_true, true positive value should be meaningless\n",
            "  warnings.warn(\n",
            "/usr/local/lib/python3.8/dist-packages/skmultiflow/data/base_stream.py:191: FutureWarning: 'prepare_for_use' has been deprecated in v0.5.0 and will be removed in v0.7.0.\n",
            "New instances of the Stream class are now ready to use after instantiation.\n",
            "  warnings.warn(\n",
            "/usr/local/lib/python3.8/dist-packages/sklearn/metrics/_ranking.py:999: UndefinedMetricWarning: No positive samples in y_true, true positive value should be meaningless\n",
            "  warnings.warn(\n",
            "<ipython-input-82-5cb4b4e3d316>:85: RuntimeWarning: divide by zero encountered in remainder\n",
            "  i=(p-1)%Y\n",
            "<ipython-input-82-5cb4b4e3d316>:87: RuntimeWarning: divide by zero encountered in remainder\n",
            "  i=i+1%Y\n",
            "/usr/local/lib/python3.8/dist-packages/skmultiflow/data/base_stream.py:191: FutureWarning: 'prepare_for_use' has been deprecated in v0.5.0 and will be removed in v0.7.0.\n",
            "New instances of the Stream class are now ready to use after instantiation.\n",
            "  warnings.warn(\n"
          ]
        },
        {
          "name": "stdout",
          "output_type": "stream",
          "text": [
            "[0.         0.22866652 0.26347185 1.        ] [3 2 1 0]\n",
            "[0.         0.22866652 0.26347185 1.        ] [3 2 1 0]\n"
          ]
        },
        {
          "name": "stderr",
          "output_type": "stream",
          "text": [
            "/usr/local/lib/python3.8/dist-packages/sklearn/metrics/_ranking.py:999: UndefinedMetricWarning: No positive samples in y_true, true positive value should be meaningless\n",
            "  warnings.warn(\n",
            "/usr/local/lib/python3.8/dist-packages/skmultiflow/data/base_stream.py:191: FutureWarning: 'prepare_for_use' has been deprecated in v0.5.0 and will be removed in v0.7.0.\n",
            "New instances of the Stream class are now ready to use after instantiation.\n",
            "  warnings.warn(\n",
            "/usr/local/lib/python3.8/dist-packages/sklearn/metrics/_ranking.py:999: UndefinedMetricWarning: No positive samples in y_true, true positive value should be meaningless\n",
            "  warnings.warn(\n",
            "<ipython-input-82-5cb4b4e3d316>:85: RuntimeWarning: divide by zero encountered in remainder\n",
            "  i=(p-1)%Y\n",
            "<ipython-input-82-5cb4b4e3d316>:87: RuntimeWarning: divide by zero encountered in remainder\n",
            "  i=i+1%Y\n",
            "/usr/local/lib/python3.8/dist-packages/skmultiflow/data/base_stream.py:191: FutureWarning: 'prepare_for_use' has been deprecated in v0.5.0 and will be removed in v0.7.0.\n",
            "New instances of the Stream class are now ready to use after instantiation.\n",
            "  warnings.warn(\n"
          ]
        },
        {
          "name": "stdout",
          "output_type": "stream",
          "text": [
            "[0.         0.22866652 0.26347185 1.        ] [3 2 1 0]\n",
            "[0.         0.22866652 0.26347185 1.        ] [3 2 1 0]\n"
          ]
        },
        {
          "name": "stderr",
          "output_type": "stream",
          "text": [
            "/usr/local/lib/python3.8/dist-packages/sklearn/metrics/_ranking.py:999: UndefinedMetricWarning: No positive samples in y_true, true positive value should be meaningless\n",
            "  warnings.warn(\n",
            "/usr/local/lib/python3.8/dist-packages/skmultiflow/data/base_stream.py:191: FutureWarning: 'prepare_for_use' has been deprecated in v0.5.0 and will be removed in v0.7.0.\n",
            "New instances of the Stream class are now ready to use after instantiation.\n",
            "  warnings.warn(\n",
            "/usr/local/lib/python3.8/dist-packages/sklearn/metrics/_ranking.py:999: UndefinedMetricWarning: No positive samples in y_true, true positive value should be meaningless\n",
            "  warnings.warn(\n",
            "<ipython-input-82-5cb4b4e3d316>:85: RuntimeWarning: divide by zero encountered in remainder\n",
            "  i=(p-1)%Y\n",
            "<ipython-input-82-5cb4b4e3d316>:87: RuntimeWarning: divide by zero encountered in remainder\n",
            "  i=i+1%Y\n",
            "/usr/local/lib/python3.8/dist-packages/skmultiflow/data/base_stream.py:191: FutureWarning: 'prepare_for_use' has been deprecated in v0.5.0 and will be removed in v0.7.0.\n",
            "New instances of the Stream class are now ready to use after instantiation.\n",
            "  warnings.warn(\n"
          ]
        },
        {
          "name": "stdout",
          "output_type": "stream",
          "text": [
            "[0.         0.22866652 0.26347185 1.        ] [3 2 1 0]\n",
            "[0.         0.22866652 0.26347185 1.        ] [3 2 1 0]\n"
          ]
        },
        {
          "name": "stderr",
          "output_type": "stream",
          "text": [
            "/usr/local/lib/python3.8/dist-packages/sklearn/metrics/_ranking.py:999: UndefinedMetricWarning: No positive samples in y_true, true positive value should be meaningless\n",
            "  warnings.warn(\n",
            "/usr/local/lib/python3.8/dist-packages/skmultiflow/data/base_stream.py:191: FutureWarning: 'prepare_for_use' has been deprecated in v0.5.0 and will be removed in v0.7.0.\n",
            "New instances of the Stream class are now ready to use after instantiation.\n",
            "  warnings.warn(\n",
            "/usr/local/lib/python3.8/dist-packages/sklearn/metrics/_ranking.py:999: UndefinedMetricWarning: No positive samples in y_true, true positive value should be meaningless\n",
            "  warnings.warn(\n",
            "/usr/local/lib/python3.8/dist-packages/skmultiflow/data/base_stream.py:191: FutureWarning: 'prepare_for_use' has been deprecated in v0.5.0 and will be removed in v0.7.0.\n",
            "New instances of the Stream class are now ready to use after instantiation.\n",
            "  warnings.warn(\n"
          ]
        },
        {
          "name": "stdout",
          "output_type": "stream",
          "text": [
            "[0.         0.22866652 0.26347185 1.        ] [3 2 1 0]\n",
            "[0.         0.22866652 0.26347185 1.        ] [3 2 1 0]\n"
          ]
        },
        {
          "name": "stderr",
          "output_type": "stream",
          "text": [
            "/usr/local/lib/python3.8/dist-packages/sklearn/metrics/_ranking.py:999: UndefinedMetricWarning: No positive samples in y_true, true positive value should be meaningless\n",
            "  warnings.warn(\n",
            "/usr/local/lib/python3.8/dist-packages/skmultiflow/data/base_stream.py:191: FutureWarning: 'prepare_for_use' has been deprecated in v0.5.0 and will be removed in v0.7.0.\n",
            "New instances of the Stream class are now ready to use after instantiation.\n",
            "  warnings.warn(\n",
            "/usr/local/lib/python3.8/dist-packages/sklearn/metrics/_ranking.py:999: UndefinedMetricWarning: No positive samples in y_true, true positive value should be meaningless\n",
            "  warnings.warn(\n",
            "/usr/local/lib/python3.8/dist-packages/skmultiflow/data/base_stream.py:191: FutureWarning: 'prepare_for_use' has been deprecated in v0.5.0 and will be removed in v0.7.0.\n",
            "New instances of the Stream class are now ready to use after instantiation.\n",
            "  warnings.warn(\n",
            "/usr/local/lib/python3.8/dist-packages/sklearn/metrics/_ranking.py:999: UndefinedMetricWarning: No positive samples in y_true, true positive value should be meaningless\n",
            "  warnings.warn(\n",
            "<ipython-input-82-5cb4b4e3d316>:85: RuntimeWarning: divide by zero encountered in remainder\n",
            "  i=(p-1)%Y\n",
            "<ipython-input-82-5cb4b4e3d316>:87: RuntimeWarning: divide by zero encountered in remainder\n",
            "  i=i+1%Y\n"
          ]
        },
        {
          "name": "stdout",
          "output_type": "stream",
          "text": [
            "[0.         0.22866652 0.26347185 1.        ] [3 2 1 0]\n",
            "[0.         0.22866652 0.26347185 1.        ] [3 2 1 0]\n",
            "[0.         0.22866652 0.26347185 1.        ] [3 2 1 0]\n"
          ]
        },
        {
          "name": "stderr",
          "output_type": "stream",
          "text": [
            "/usr/local/lib/python3.8/dist-packages/skmultiflow/data/base_stream.py:191: FutureWarning: 'prepare_for_use' has been deprecated in v0.5.0 and will be removed in v0.7.0.\n",
            "New instances of the Stream class are now ready to use after instantiation.\n",
            "  warnings.warn(\n",
            "/usr/local/lib/python3.8/dist-packages/sklearn/metrics/_ranking.py:999: UndefinedMetricWarning: No positive samples in y_true, true positive value should be meaningless\n",
            "  warnings.warn(\n",
            "<ipython-input-82-5cb4b4e3d316>:85: RuntimeWarning: divide by zero encountered in remainder\n",
            "  i=(p-1)%Y\n",
            "<ipython-input-82-5cb4b4e3d316>:87: RuntimeWarning: divide by zero encountered in remainder\n",
            "  i=i+1%Y\n",
            "/usr/local/lib/python3.8/dist-packages/skmultiflow/data/base_stream.py:191: FutureWarning: 'prepare_for_use' has been deprecated in v0.5.0 and will be removed in v0.7.0.\n",
            "New instances of the Stream class are now ready to use after instantiation.\n",
            "  warnings.warn(\n",
            "/usr/local/lib/python3.8/dist-packages/sklearn/metrics/_ranking.py:999: UndefinedMetricWarning: No positive samples in y_true, true positive value should be meaningless\n",
            "  warnings.warn(\n",
            "/usr/local/lib/python3.8/dist-packages/skmultiflow/data/base_stream.py:191: FutureWarning: 'prepare_for_use' has been deprecated in v0.5.0 and will be removed in v0.7.0.\n",
            "New instances of the Stream class are now ready to use after instantiation.\n",
            "  warnings.warn(\n"
          ]
        },
        {
          "name": "stdout",
          "output_type": "stream",
          "text": [
            "[0.         0.22866652 0.26347185 1.        ] [3 2 1 0]\n",
            "[0.         0.22866652 0.26347185 1.        ] [3 2 1 0]\n",
            "[0.         0.22866652 0.26347185 1.        ] [3 2 1 0]\n"
          ]
        },
        {
          "name": "stderr",
          "output_type": "stream",
          "text": [
            "/usr/local/lib/python3.8/dist-packages/sklearn/metrics/_ranking.py:999: UndefinedMetricWarning: No positive samples in y_true, true positive value should be meaningless\n",
            "  warnings.warn(\n",
            "/usr/local/lib/python3.8/dist-packages/skmultiflow/data/base_stream.py:191: FutureWarning: 'prepare_for_use' has been deprecated in v0.5.0 and will be removed in v0.7.0.\n",
            "New instances of the Stream class are now ready to use after instantiation.\n",
            "  warnings.warn(\n",
            "/usr/local/lib/python3.8/dist-packages/sklearn/metrics/_ranking.py:999: UndefinedMetricWarning: No positive samples in y_true, true positive value should be meaningless\n",
            "  warnings.warn(\n",
            "<ipython-input-82-5cb4b4e3d316>:85: RuntimeWarning: divide by zero encountered in remainder\n",
            "  i=(p-1)%Y\n",
            "<ipython-input-82-5cb4b4e3d316>:87: RuntimeWarning: divide by zero encountered in remainder\n",
            "  i=i+1%Y\n",
            "/usr/local/lib/python3.8/dist-packages/skmultiflow/data/base_stream.py:191: FutureWarning: 'prepare_for_use' has been deprecated in v0.5.0 and will be removed in v0.7.0.\n",
            "New instances of the Stream class are now ready to use after instantiation.\n",
            "  warnings.warn(\n",
            "/usr/local/lib/python3.8/dist-packages/sklearn/metrics/_ranking.py:999: UndefinedMetricWarning: No positive samples in y_true, true positive value should be meaningless\n",
            "  warnings.warn(\n"
          ]
        },
        {
          "name": "stdout",
          "output_type": "stream",
          "text": [
            "[0.         0.22866652 0.26347185 1.        ] [3 2 1 0]\n",
            "[0.         0.22866652 0.26347185 1.        ] [3 2 1 0]\n",
            "[0.         0.22866652 0.26347185 1.        ] [3 2 1 0]\n"
          ]
        },
        {
          "name": "stderr",
          "output_type": "stream",
          "text": [
            "/usr/local/lib/python3.8/dist-packages/skmultiflow/data/base_stream.py:191: FutureWarning: 'prepare_for_use' has been deprecated in v0.5.0 and will be removed in v0.7.0.\n",
            "New instances of the Stream class are now ready to use after instantiation.\n",
            "  warnings.warn(\n",
            "/usr/local/lib/python3.8/dist-packages/sklearn/metrics/_ranking.py:999: UndefinedMetricWarning: No positive samples in y_true, true positive value should be meaningless\n",
            "  warnings.warn(\n",
            "<ipython-input-82-5cb4b4e3d316>:85: RuntimeWarning: divide by zero encountered in remainder\n",
            "  i=(p-1)%Y\n",
            "<ipython-input-82-5cb4b4e3d316>:87: RuntimeWarning: divide by zero encountered in remainder\n",
            "  i=i+1%Y\n",
            "/usr/local/lib/python3.8/dist-packages/skmultiflow/data/base_stream.py:191: FutureWarning: 'prepare_for_use' has been deprecated in v0.5.0 and will be removed in v0.7.0.\n",
            "New instances of the Stream class are now ready to use after instantiation.\n",
            "  warnings.warn(\n",
            "/usr/local/lib/python3.8/dist-packages/sklearn/metrics/_ranking.py:999: UndefinedMetricWarning: No positive samples in y_true, true positive value should be meaningless\n",
            "  warnings.warn(\n",
            "<ipython-input-82-5cb4b4e3d316>:85: RuntimeWarning: divide by zero encountered in remainder\n",
            "  i=(p-1)%Y\n",
            "<ipython-input-82-5cb4b4e3d316>:87: RuntimeWarning: divide by zero encountered in remainder\n",
            "  i=i+1%Y\n"
          ]
        },
        {
          "name": "stdout",
          "output_type": "stream",
          "text": [
            "[0.         0.22866652 0.26347185 1.        ] [3 2 1 0]\n",
            "[0.         0.22866652 0.26347185 1.        ] [3 2 1 0]\n",
            "[0.         0.22866652 0.26347185 1.        ] [3 2 1 0]\n"
          ]
        },
        {
          "name": "stderr",
          "output_type": "stream",
          "text": [
            "/usr/local/lib/python3.8/dist-packages/skmultiflow/data/base_stream.py:191: FutureWarning: 'prepare_for_use' has been deprecated in v0.5.0 and will be removed in v0.7.0.\n",
            "New instances of the Stream class are now ready to use after instantiation.\n",
            "  warnings.warn(\n",
            "/usr/local/lib/python3.8/dist-packages/sklearn/metrics/_ranking.py:999: UndefinedMetricWarning: No positive samples in y_true, true positive value should be meaningless\n",
            "  warnings.warn(\n",
            "/usr/local/lib/python3.8/dist-packages/skmultiflow/data/base_stream.py:191: FutureWarning: 'prepare_for_use' has been deprecated in v0.5.0 and will be removed in v0.7.0.\n",
            "New instances of the Stream class are now ready to use after instantiation.\n",
            "  warnings.warn(\n",
            "/usr/local/lib/python3.8/dist-packages/sklearn/metrics/_ranking.py:999: UndefinedMetricWarning: No positive samples in y_true, true positive value should be meaningless\n",
            "  warnings.warn(\n",
            "/usr/local/lib/python3.8/dist-packages/skmultiflow/data/base_stream.py:191: FutureWarning: 'prepare_for_use' has been deprecated in v0.5.0 and will be removed in v0.7.0.\n",
            "New instances of the Stream class are now ready to use after instantiation.\n",
            "  warnings.warn(\n",
            "/usr/local/lib/python3.8/dist-packages/sklearn/metrics/_ranking.py:999: UndefinedMetricWarning: No positive samples in y_true, true positive value should be meaningless\n",
            "  warnings.warn(\n",
            "/usr/local/lib/python3.8/dist-packages/skmultiflow/data/base_stream.py:191: FutureWarning: 'prepare_for_use' has been deprecated in v0.5.0 and will be removed in v0.7.0.\n",
            "New instances of the Stream class are now ready to use after instantiation.\n",
            "  warnings.warn(\n",
            "/usr/local/lib/python3.8/dist-packages/sklearn/metrics/_ranking.py:999: UndefinedMetricWarning: No positive samples in y_true, true positive value should be meaningless\n",
            "  warnings.warn(\n",
            "<ipython-input-82-5cb4b4e3d316>:85: RuntimeWarning: divide by zero encountered in remainder\n",
            "  i=(p-1)%Y\n",
            "<ipython-input-82-5cb4b4e3d316>:87: RuntimeWarning: divide by zero encountered in remainder\n",
            "  i=i+1%Y\n",
            "/usr/local/lib/python3.8/dist-packages/skmultiflow/data/base_stream.py:191: FutureWarning: 'prepare_for_use' has been deprecated in v0.5.0 and will be removed in v0.7.0.\n",
            "New instances of the Stream class are now ready to use after instantiation.\n",
            "  warnings.warn(\n"
          ]
        },
        {
          "name": "stdout",
          "output_type": "stream",
          "text": [
            "[0.         0.22866652 0.26347185 1.        ] [3 2 1 0]\n",
            "[0.         0.22866652 0.26347185 1.        ] [3 2 1 0]\n"
          ]
        },
        {
          "name": "stderr",
          "output_type": "stream",
          "text": [
            "/usr/local/lib/python3.8/dist-packages/sklearn/metrics/_ranking.py:999: UndefinedMetricWarning: No positive samples in y_true, true positive value should be meaningless\n",
            "  warnings.warn(\n",
            "<ipython-input-82-5cb4b4e3d316>:85: RuntimeWarning: divide by zero encountered in remainder\n",
            "  i=(p-1)%Y\n",
            "<ipython-input-82-5cb4b4e3d316>:87: RuntimeWarning: divide by zero encountered in remainder\n",
            "  i=i+1%Y\n",
            "/usr/local/lib/python3.8/dist-packages/skmultiflow/data/base_stream.py:191: FutureWarning: 'prepare_for_use' has been deprecated in v0.5.0 and will be removed in v0.7.0.\n",
            "New instances of the Stream class are now ready to use after instantiation.\n",
            "  warnings.warn(\n",
            "/usr/local/lib/python3.8/dist-packages/sklearn/metrics/_ranking.py:999: UndefinedMetricWarning: No positive samples in y_true, true positive value should be meaningless\n",
            "  warnings.warn(\n",
            "/usr/local/lib/python3.8/dist-packages/skmultiflow/data/base_stream.py:191: FutureWarning: 'prepare_for_use' has been deprecated in v0.5.0 and will be removed in v0.7.0.\n",
            "New instances of the Stream class are now ready to use after instantiation.\n",
            "  warnings.warn(\n"
          ]
        },
        {
          "name": "stdout",
          "output_type": "stream",
          "text": [
            "[0.         0.22866652 0.26347185 1.        ] [3 2 1 0]\n",
            "[0.         0.22866652 0.26347185 1.        ] [3 2 1 0]\n"
          ]
        },
        {
          "name": "stderr",
          "output_type": "stream",
          "text": [
            "/usr/local/lib/python3.8/dist-packages/sklearn/metrics/_ranking.py:999: UndefinedMetricWarning: No positive samples in y_true, true positive value should be meaningless\n",
            "  warnings.warn(\n",
            "<ipython-input-82-5cb4b4e3d316>:85: RuntimeWarning: divide by zero encountered in remainder\n",
            "  i=(p-1)%Y\n",
            "<ipython-input-82-5cb4b4e3d316>:87: RuntimeWarning: divide by zero encountered in remainder\n",
            "  i=i+1%Y\n",
            "/usr/local/lib/python3.8/dist-packages/skmultiflow/data/base_stream.py:191: FutureWarning: 'prepare_for_use' has been deprecated in v0.5.0 and will be removed in v0.7.0.\n",
            "New instances of the Stream class are now ready to use after instantiation.\n",
            "  warnings.warn(\n",
            "/usr/local/lib/python3.8/dist-packages/sklearn/metrics/_ranking.py:999: UndefinedMetricWarning: No positive samples in y_true, true positive value should be meaningless\n",
            "  warnings.warn(\n",
            "/usr/local/lib/python3.8/dist-packages/skmultiflow/data/base_stream.py:191: FutureWarning: 'prepare_for_use' has been deprecated in v0.5.0 and will be removed in v0.7.0.\n",
            "New instances of the Stream class are now ready to use after instantiation.\n",
            "  warnings.warn(\n"
          ]
        },
        {
          "name": "stdout",
          "output_type": "stream",
          "text": [
            "[0.         0.22866652 0.26347185 1.        ] [3 2 1 0]\n",
            "[0.         0.22866652 0.26347185 1.        ] [3 2 1 0]\n"
          ]
        },
        {
          "name": "stderr",
          "output_type": "stream",
          "text": [
            "/usr/local/lib/python3.8/dist-packages/sklearn/metrics/_ranking.py:999: UndefinedMetricWarning: No positive samples in y_true, true positive value should be meaningless\n",
            "  warnings.warn(\n",
            "/usr/local/lib/python3.8/dist-packages/skmultiflow/data/base_stream.py:191: FutureWarning: 'prepare_for_use' has been deprecated in v0.5.0 and will be removed in v0.7.0.\n",
            "New instances of the Stream class are now ready to use after instantiation.\n",
            "  warnings.warn(\n",
            "/usr/local/lib/python3.8/dist-packages/sklearn/metrics/_ranking.py:999: UndefinedMetricWarning: No positive samples in y_true, true positive value should be meaningless\n",
            "  warnings.warn(\n",
            "<ipython-input-82-5cb4b4e3d316>:85: RuntimeWarning: divide by zero encountered in remainder\n",
            "  i=(p-1)%Y\n",
            "<ipython-input-82-5cb4b4e3d316>:87: RuntimeWarning: divide by zero encountered in remainder\n",
            "  i=i+1%Y\n",
            "/usr/local/lib/python3.8/dist-packages/skmultiflow/data/base_stream.py:191: FutureWarning: 'prepare_for_use' has been deprecated in v0.5.0 and will be removed in v0.7.0.\n",
            "New instances of the Stream class are now ready to use after instantiation.\n",
            "  warnings.warn(\n"
          ]
        },
        {
          "name": "stdout",
          "output_type": "stream",
          "text": [
            "[0.         0.22866652 0.26347185 1.        ] [3 2 1 0]\n",
            "[0.         0.22866652 0.26347185 1.        ] [3 2 1 0]\n"
          ]
        },
        {
          "name": "stderr",
          "output_type": "stream",
          "text": [
            "/usr/local/lib/python3.8/dist-packages/sklearn/metrics/_ranking.py:999: UndefinedMetricWarning: No positive samples in y_true, true positive value should be meaningless\n",
            "  warnings.warn(\n",
            "<ipython-input-82-5cb4b4e3d316>:85: RuntimeWarning: divide by zero encountered in remainder\n",
            "  i=(p-1)%Y\n",
            "<ipython-input-82-5cb4b4e3d316>:87: RuntimeWarning: divide by zero encountered in remainder\n",
            "  i=i+1%Y\n",
            "/usr/local/lib/python3.8/dist-packages/skmultiflow/data/base_stream.py:191: FutureWarning: 'prepare_for_use' has been deprecated in v0.5.0 and will be removed in v0.7.0.\n",
            "New instances of the Stream class are now ready to use after instantiation.\n",
            "  warnings.warn(\n",
            "/usr/local/lib/python3.8/dist-packages/sklearn/metrics/_ranking.py:999: UndefinedMetricWarning: No positive samples in y_true, true positive value should be meaningless\n",
            "  warnings.warn(\n",
            "/usr/local/lib/python3.8/dist-packages/skmultiflow/data/base_stream.py:191: FutureWarning: 'prepare_for_use' has been deprecated in v0.5.0 and will be removed in v0.7.0.\n",
            "New instances of the Stream class are now ready to use after instantiation.\n",
            "  warnings.warn(\n"
          ]
        },
        {
          "name": "stdout",
          "output_type": "stream",
          "text": [
            "[0.         0.22866652 0.26347185 1.        ] [3 2 1 0]\n",
            "[0.         0.22866652 0.26347185 1.        ] [3 2 1 0]\n"
          ]
        },
        {
          "name": "stderr",
          "output_type": "stream",
          "text": [
            "/usr/local/lib/python3.8/dist-packages/sklearn/metrics/_ranking.py:999: UndefinedMetricWarning: No positive samples in y_true, true positive value should be meaningless\n",
            "  warnings.warn(\n",
            "/usr/local/lib/python3.8/dist-packages/skmultiflow/data/base_stream.py:191: FutureWarning: 'prepare_for_use' has been deprecated in v0.5.0 and will be removed in v0.7.0.\n",
            "New instances of the Stream class are now ready to use after instantiation.\n",
            "  warnings.warn(\n",
            "/usr/local/lib/python3.8/dist-packages/sklearn/metrics/_ranking.py:999: UndefinedMetricWarning: No positive samples in y_true, true positive value should be meaningless\n",
            "  warnings.warn(\n",
            "<ipython-input-82-5cb4b4e3d316>:85: RuntimeWarning: divide by zero encountered in remainder\n",
            "  i=(p-1)%Y\n",
            "<ipython-input-82-5cb4b4e3d316>:87: RuntimeWarning: divide by zero encountered in remainder\n",
            "  i=i+1%Y\n",
            "/usr/local/lib/python3.8/dist-packages/skmultiflow/data/base_stream.py:191: FutureWarning: 'prepare_for_use' has been deprecated in v0.5.0 and will be removed in v0.7.0.\n",
            "New instances of the Stream class are now ready to use after instantiation.\n",
            "  warnings.warn(\n"
          ]
        },
        {
          "name": "stdout",
          "output_type": "stream",
          "text": [
            "[0.         0.22866652 0.26347185 1.        ] [3 2 1 0]\n",
            "[0.         0.22866652 0.26347185 1.        ] [3 2 1 0]\n"
          ]
        },
        {
          "name": "stderr",
          "output_type": "stream",
          "text": [
            "/usr/local/lib/python3.8/dist-packages/sklearn/metrics/_ranking.py:999: UndefinedMetricWarning: No positive samples in y_true, true positive value should be meaningless\n",
            "  warnings.warn(\n",
            "/usr/local/lib/python3.8/dist-packages/skmultiflow/data/base_stream.py:191: FutureWarning: 'prepare_for_use' has been deprecated in v0.5.0 and will be removed in v0.7.0.\n",
            "New instances of the Stream class are now ready to use after instantiation.\n",
            "  warnings.warn(\n",
            "/usr/local/lib/python3.8/dist-packages/sklearn/metrics/_ranking.py:999: UndefinedMetricWarning: No positive samples in y_true, true positive value should be meaningless\n",
            "  warnings.warn(\n",
            "/usr/local/lib/python3.8/dist-packages/skmultiflow/data/base_stream.py:191: FutureWarning: 'prepare_for_use' has been deprecated in v0.5.0 and will be removed in v0.7.0.\n",
            "New instances of the Stream class are now ready to use after instantiation.\n",
            "  warnings.warn(\n"
          ]
        },
        {
          "name": "stdout",
          "output_type": "stream",
          "text": [
            "[0.         0.22866652 0.26347185 1.        ] [3 2 1 0]\n",
            "[0.         0.22866652 0.26347185 1.        ] [3 2 1 0]\n"
          ]
        },
        {
          "name": "stderr",
          "output_type": "stream",
          "text": [
            "/usr/local/lib/python3.8/dist-packages/sklearn/metrics/_ranking.py:999: UndefinedMetricWarning: No positive samples in y_true, true positive value should be meaningless\n",
            "  warnings.warn(\n",
            "/usr/local/lib/python3.8/dist-packages/skmultiflow/data/base_stream.py:191: FutureWarning: 'prepare_for_use' has been deprecated in v0.5.0 and will be removed in v0.7.0.\n",
            "New instances of the Stream class are now ready to use after instantiation.\n",
            "  warnings.warn(\n",
            "/usr/local/lib/python3.8/dist-packages/sklearn/metrics/_ranking.py:999: UndefinedMetricWarning: No positive samples in y_true, true positive value should be meaningless\n",
            "  warnings.warn(\n",
            "<ipython-input-82-5cb4b4e3d316>:85: RuntimeWarning: divide by zero encountered in remainder\n",
            "  i=(p-1)%Y\n",
            "<ipython-input-82-5cb4b4e3d316>:87: RuntimeWarning: divide by zero encountered in remainder\n",
            "  i=i+1%Y\n",
            "/usr/local/lib/python3.8/dist-packages/skmultiflow/data/base_stream.py:191: FutureWarning: 'prepare_for_use' has been deprecated in v0.5.0 and will be removed in v0.7.0.\n",
            "New instances of the Stream class are now ready to use after instantiation.\n",
            "  warnings.warn(\n",
            "/usr/local/lib/python3.8/dist-packages/sklearn/metrics/_ranking.py:999: UndefinedMetricWarning: No positive samples in y_true, true positive value should be meaningless\n",
            "  warnings.warn(\n",
            "<ipython-input-82-5cb4b4e3d316>:85: RuntimeWarning: divide by zero encountered in remainder\n",
            "  i=(p-1)%Y\n",
            "<ipython-input-82-5cb4b4e3d316>:87: RuntimeWarning: divide by zero encountered in remainder\n",
            "  i=i+1%Y\n"
          ]
        },
        {
          "name": "stdout",
          "output_type": "stream",
          "text": [
            "[0.         0.22866652 0.26347185 1.        ] [3 2 1 0]\n",
            "[0.         0.22866652 0.26347185 1.        ] [3 2 1 0]\n",
            "[0.         0.22866652 0.26347185 1.        ] [3 2 1 0]\n"
          ]
        },
        {
          "name": "stderr",
          "output_type": "stream",
          "text": [
            "/usr/local/lib/python3.8/dist-packages/skmultiflow/data/base_stream.py:191: FutureWarning: 'prepare_for_use' has been deprecated in v0.5.0 and will be removed in v0.7.0.\n",
            "New instances of the Stream class are now ready to use after instantiation.\n",
            "  warnings.warn(\n"
          ]
        }
      ],
      "source": [
        "\"\"\"\n",
        "Online Active Learning Procedure of\n",
        "ROALE-DI\n",
        "\n",
        ": while (S. hasNext()) do\n",
        "2: xnew ¼ S. nextInstance()\n",
        "3: p ¼ p þ 1\n",
        "4: if (p<I) then // before array fully filled the first time.\n",
        "5: A½p  1\u0004 ¼ xnew\n",
        "6: else if (p ¼ ¼ I) then // fill the array for the first time.\n",
        "7: A½p  1\u0004 ¼ xnew\n",
        "8: Cs ¼ CreateNewBaseClassifierð1; U; um; I; L; D; wd; DCIR½l\u0004Þ\n",
        "// label all instances in the first block to create stable\n",
        "classifier\n",
        "9: C1 ¼ Cs// create the first dynamic classifier\n",
        "10: else // (p>I) have more instances than I\n",
        "11: i ¼ ðp  1Þ%I// current index for A\n",
        "12: DealInstanceðxnew; i; 6; um; s; UÞ // address instance\n",
        "13: i ¼ ði þ 1Þ%I // i moves circularly\n",
        "14: if (i ¼ ¼ 0) then // the array is filled again\n",
        "15: k ¼ k þ 1\n",
        "16: um ¼ u \u0005 2=L // reset um for UncertaintyStrategy\n",
        "17: Cnew ¼ CreateNewBaseClassifierð\"; U; um; I; L; D; wd; DCIR½l\u0004Þ\n",
        "// create a new dynamic classifier\n",
        "18: if(k>D) then\n",
        "19: Cmin Cnew\n",
        "20: end if\n",
        "21: Update weights according to (3)\n",
        "22: Use (5) calculate the damped class imbalance ratio\n",
        "23: end if\n",
        "24: end if\n",
        "25: end while\n",
        "26: for i ¼ 0 to I-1 do // address the remaining instances in the\n",
        "array\n",
        "27: x ¼ A½i\u0004\n",
        "28: DealInstanceðx; i; 6; um; s; UÞ\n",
        "29: end for\n",
        "\"\"\"\n",
        "from imblearn.over_sampling import SMOTE\n",
        "from sklearn import metrics\n",
        "gen=[hyp_s,hyp_f,sea_s,sea_f,rbf_gr,led_m,tree_s,tree_f,ds_stream,agar,ds_stream] \n",
        "\n",
        "class CircularArray:\n",
        " def __init__(self, size):\n",
        "  self.data = [None for i in range(size)]\n",
        " def append(self, x):\n",
        "  self.data.pop(0)\n",
        "  self.data.append(x)\n",
        " def get(self):\n",
        "  return self.data\n",
        " def set(self,pos,x):\n",
        "   self.data[pos]=x\n",
        "\n",
        "p,i,k,g=0,0,0,0\n",
        "sigma=0.01               # random strategy threshold parameter\n",
        "s=0.10 \n",
        "r=0.05         \n",
        "I=500               \n",
        "D=2         \n",
        "L=500\n",
        "theta=0.1                   # uncertainty strategy initial threshold setting parameter\n",
        "theta_m=theta*(2/L)      \n",
        "C=[[]for l in range(D)]  \n",
        "W=[1.0]*D         \n",
        "cir=CircularArray(600)\n",
        "threshold= 1\n",
        "labels=np.array(data[\"Protocol\"])\n",
        "stream=gen[g]\n",
        "stream.prepare_for_use()\n",
        "n_samp=1\n",
        "while(stream.has_more_samples() and n_samp<100):\n",
        "  X, Y = stream.next_sample()\n",
        "  p+=1\n",
        "  n_samp+=1\n",
        "  CreateNewBaseClassifier(0.05)\n",
        "  fpr, tpr, thresholds = metrics.roc_curve(real_data[\"Serv1\"], np.array(data[\"Protocol\"]), pos_label=2)\n",
        "  print(fpr, thresholds)\n",
        "  # pred=ht.get_votes_for_instance(real_data)\n",
        "  # print(pred)\n",
        "  if p<Y:\n",
        "    cir.set(p-1,X)\n",
        "  elif p==Y:\n",
        "    cir.set(p-1,X)\n",
        "  else:\n",
        "    i=(p-1)%Y\n",
        "    DealtInstace(i,X,threshold,ht)\n",
        "    i=i+1%Y\n",
        "    if i==0:\n",
        "      k=(k+1)%D\n",
        "      C[k]=CreateNewBaseClassifier(r)\n",
        "      theta_m=theta*(2/L)\n",
        "      if(k>D):\n",
        "        for d in range(D-1):\n",
        "          C[d]=C[d+1]\n",
        "          C[D-1]=C[k]\n",
        "        for d in range(D-1):\n",
        "          W[d]= W[d]*(1-(1/D))\n",
        "          W[D-1]=1/D\n",
        "        for b in range(I-1):\n",
        "          xp=cir.data[b]\n",
        "          DealtInstace(X,b,sigma,theta_m,s)\n",
        "      threshold=threshold*2/600\n",
        "      result=ht.predict_proba(X)\n",
        "      result[0].sort()\n",
        "      len1=len(result[0])\n",
        "      margin=abs(result[0][len1-1]-result[0][len1-2])\n",
        "      # print(\"Margin value:\",margin)\n",
        "      # if(margin<threshold):\n",
        "      #   threshold=threshold*(1-p)\n",
        "      #   ht=ht.partial_fit(real_data, np.array(data[\"Protocol\"]))\n",
        "        # print(\"Model Score\",ht.score(real_data, np.array(data[\"Protocol\"])))"
      ]
    },
    {
      "cell_type": "code",
      "execution_count": null,
      "metadata": {
        "colab": {
          "base_uri": "https://localhost:8080/"
        },
        "id": "T7zN2pSSqV9F",
        "outputId": "134b67d7-d7e1-4de4-b4b9-81ef26eb03ae"
      },
      "outputs": [
        {
          "name": "stdout",
          "output_type": "stream",
          "text": [
            "Prequential Evaluation\n",
            "Evaluating 1 target(s).\n",
            "Evaluating...\n",
            " #################### [100%] [0.40s]\n",
            "Processed samples: 1000\n",
            "Mean performance:\n",
            "HT - Accuracy     : 0.7800\n",
            "Prequential Evaluation\n",
            "Evaluating 1 target(s).\n",
            "Evaluating...\n",
            " #################### [100%] [0.45s]\n",
            "Processed samples: 1000\n",
            "Mean performance:\n",
            "HT - Accuracy     : 0.8090\n",
            "Prequential Evaluation\n",
            "Evaluating 1 target(s).\n",
            "Evaluating...\n",
            " #################### [100%] [0.45s]\n",
            "Processed samples: 1000\n",
            "Mean performance:\n",
            "HT - Accuracy     : 0.7610\n",
            "Prequential Evaluation\n",
            "Evaluating 1 target(s).\n",
            "Evaluating...\n",
            " #################### [100%] [0.42s]\n",
            "Processed samples: 1000\n",
            "Mean performance:\n",
            "HT - Accuracy     : 0.7460\n",
            "Prequential Evaluation\n",
            "Evaluating 1 target(s).\n",
            "Evaluating...\n",
            " #################### [100%] [0.40s]\n",
            "Processed samples: 1000\n",
            "Mean performance:\n",
            "HT - Accuracy     : 0.7980\n",
            "Prequential Evaluation\n",
            "Evaluating 1 target(s).\n",
            "Evaluating...\n",
            " #################### [100%] [0.43s]\n",
            "Processed samples: 1000\n",
            "Mean performance:\n",
            "HT - Accuracy     : 0.7860\n",
            "Prequential Evaluation\n",
            "Evaluating 1 target(s).\n",
            "Evaluating...\n",
            " #################### [100%] [0.44s]\n",
            "Processed samples: 1000\n",
            "Mean performance:\n",
            "HT - Accuracy     : 0.7950\n",
            "Prequential Evaluation\n",
            "Evaluating 1 target(s).\n",
            "Evaluating...\n",
            " #################### [100%] [0.44s]\n",
            "Processed samples: 1000\n",
            "Mean performance:\n",
            "HT - Accuracy     : 0.7810\n",
            "Prequential Evaluation\n",
            "Evaluating 1 target(s).\n",
            "Evaluating...\n",
            " #################### [100%] [0.43s]\n",
            "Processed samples: 1000\n",
            "Mean performance:\n",
            "HT - Accuracy     : 0.7600\n",
            "Prequential Evaluation\n",
            "Evaluating 1 target(s).\n",
            "Evaluating...\n",
            " #################### [100%] [0.43s]\n",
            "Processed samples: 1000\n",
            "Mean performance:\n",
            "HT - Accuracy     : 0.7780\n",
            "Prequential Evaluation\n",
            "Evaluating 1 target(s).\n",
            "Evaluating...\n",
            " #################### [100%] [0.47s]\n",
            "Processed samples: 1000\n",
            "Mean performance:\n",
            "HT - Accuracy     : 0.8590\n"
          ]
        }
      ],
      "source": [
        "acc_list=['hyp_s.txt','hyp_f.txt','sea_s.txt','sea_f.txt','rbf_gr.txt',\n",
        "'led_m.txt','tree_s.txt','tree_f.txt','data_stream.txt','sine.txt','agar.txt']\n",
        "for g in range(0,len(gen)):\n",
        "  evaluator=EvaluatePrequential(n_wait=1,\n",
        "  max_samples=1000,\n",
        "  batch_size=1,\n",
        "  pretrain_size=0,\n",
        "  metrics=['accuracy'],\n",
        "  output_file=acc_list[g],\n",
        "  show_plot=False,\n",
        "  restart_stream=True,\n",
        "  data_points_for_classification=False)\n",
        "  evaluator.evaluate(stream=stream, model=ht, model_names=['HT'])\n",
        "\n"
      ]
    },
    {
      "cell_type": "code",
      "execution_count": null,
      "metadata": {
        "colab": {
          "base_uri": "https://localhost:8080/",
          "height": 1000
        },
        "id": "opFgaY4S5RXl",
        "outputId": "ed24a7db-4b97-4cb0-f57c-f01b4b742311"
      },
      "outputs": [
        {
          "name": "stderr",
          "output_type": "stream",
          "text": [
            "<ipython-input-84-eddc9824f38d>:15: DeprecationWarning: `np.float` is a deprecated alias for the builtin `float`. To silence this warning, use `float` by itself. Doing this will not modify any behavior and is safe. If you specifically wanted the numpy scalar type, use `np.float64` here.\n",
            "Deprecated in NumPy 1.20; for more details and guidance: https://numpy.org/devdocs/release/1.20.0-notes.html#deprecations\n",
            "  macc=np.array(macc).astype(np.float)\n",
            "<ipython-input-84-eddc9824f38d>:16: DeprecationWarning: `np.float` is a deprecated alias for the builtin `float`. To silence this warning, use `float` by itself. Doing this will not modify any behavior and is safe. If you specifically wanted the numpy scalar type, use `np.float64` here.\n",
            "Deprecated in NumPy 1.20; for more details and guidance: https://numpy.org/devdocs/release/1.20.0-notes.html#deprecations\n",
            "  samples=np.array(samples).astype(np.float)\n",
            "<ipython-input-84-eddc9824f38d>:15: DeprecationWarning: `np.float` is a deprecated alias for the builtin `float`. To silence this warning, use `float` by itself. Doing this will not modify any behavior and is safe. If you specifically wanted the numpy scalar type, use `np.float64` here.\n",
            "Deprecated in NumPy 1.20; for more details and guidance: https://numpy.org/devdocs/release/1.20.0-notes.html#deprecations\n",
            "  macc=np.array(macc).astype(np.float)\n",
            "<ipython-input-84-eddc9824f38d>:16: DeprecationWarning: `np.float` is a deprecated alias for the builtin `float`. To silence this warning, use `float` by itself. Doing this will not modify any behavior and is safe. If you specifically wanted the numpy scalar type, use `np.float64` here.\n",
            "Deprecated in NumPy 1.20; for more details and guidance: https://numpy.org/devdocs/release/1.20.0-notes.html#deprecations\n",
            "  samples=np.array(samples).astype(np.float)\n",
            "<ipython-input-84-eddc9824f38d>:15: DeprecationWarning: `np.float` is a deprecated alias for the builtin `float`. To silence this warning, use `float` by itself. Doing this will not modify any behavior and is safe. If you specifically wanted the numpy scalar type, use `np.float64` here.\n",
            "Deprecated in NumPy 1.20; for more details and guidance: https://numpy.org/devdocs/release/1.20.0-notes.html#deprecations\n",
            "  macc=np.array(macc).astype(np.float)\n",
            "<ipython-input-84-eddc9824f38d>:16: DeprecationWarning: `np.float` is a deprecated alias for the builtin `float`. To silence this warning, use `float` by itself. Doing this will not modify any behavior and is safe. If you specifically wanted the numpy scalar type, use `np.float64` here.\n",
            "Deprecated in NumPy 1.20; for more details and guidance: https://numpy.org/devdocs/release/1.20.0-notes.html#deprecations\n",
            "  samples=np.array(samples).astype(np.float)\n",
            "<ipython-input-84-eddc9824f38d>:15: DeprecationWarning: `np.float` is a deprecated alias for the builtin `float`. To silence this warning, use `float` by itself. Doing this will not modify any behavior and is safe. If you specifically wanted the numpy scalar type, use `np.float64` here.\n",
            "Deprecated in NumPy 1.20; for more details and guidance: https://numpy.org/devdocs/release/1.20.0-notes.html#deprecations\n",
            "  macc=np.array(macc).astype(np.float)\n",
            "<ipython-input-84-eddc9824f38d>:16: DeprecationWarning: `np.float` is a deprecated alias for the builtin `float`. To silence this warning, use `float` by itself. Doing this will not modify any behavior and is safe. If you specifically wanted the numpy scalar type, use `np.float64` here.\n",
            "Deprecated in NumPy 1.20; for more details and guidance: https://numpy.org/devdocs/release/1.20.0-notes.html#deprecations\n",
            "  samples=np.array(samples).astype(np.float)\n",
            "<ipython-input-84-eddc9824f38d>:15: DeprecationWarning: `np.float` is a deprecated alias for the builtin `float`. To silence this warning, use `float` by itself. Doing this will not modify any behavior and is safe. If you specifically wanted the numpy scalar type, use `np.float64` here.\n",
            "Deprecated in NumPy 1.20; for more details and guidance: https://numpy.org/devdocs/release/1.20.0-notes.html#deprecations\n",
            "  macc=np.array(macc).astype(np.float)\n",
            "<ipython-input-84-eddc9824f38d>:16: DeprecationWarning: `np.float` is a deprecated alias for the builtin `float`. To silence this warning, use `float` by itself. Doing this will not modify any behavior and is safe. If you specifically wanted the numpy scalar type, use `np.float64` here.\n",
            "Deprecated in NumPy 1.20; for more details and guidance: https://numpy.org/devdocs/release/1.20.0-notes.html#deprecations\n",
            "  samples=np.array(samples).astype(np.float)\n",
            "<ipython-input-84-eddc9824f38d>:15: DeprecationWarning: `np.float` is a deprecated alias for the builtin `float`. To silence this warning, use `float` by itself. Doing this will not modify any behavior and is safe. If you specifically wanted the numpy scalar type, use `np.float64` here.\n",
            "Deprecated in NumPy 1.20; for more details and guidance: https://numpy.org/devdocs/release/1.20.0-notes.html#deprecations\n",
            "  macc=np.array(macc).astype(np.float)\n",
            "<ipython-input-84-eddc9824f38d>:16: DeprecationWarning: `np.float` is a deprecated alias for the builtin `float`. To silence this warning, use `float` by itself. Doing this will not modify any behavior and is safe. If you specifically wanted the numpy scalar type, use `np.float64` here.\n",
            "Deprecated in NumPy 1.20; for more details and guidance: https://numpy.org/devdocs/release/1.20.0-notes.html#deprecations\n",
            "  samples=np.array(samples).astype(np.float)\n",
            "<ipython-input-84-eddc9824f38d>:15: DeprecationWarning: `np.float` is a deprecated alias for the builtin `float`. To silence this warning, use `float` by itself. Doing this will not modify any behavior and is safe. If you specifically wanted the numpy scalar type, use `np.float64` here.\n",
            "Deprecated in NumPy 1.20; for more details and guidance: https://numpy.org/devdocs/release/1.20.0-notes.html#deprecations\n",
            "  macc=np.array(macc).astype(np.float)\n",
            "<ipython-input-84-eddc9824f38d>:16: DeprecationWarning: `np.float` is a deprecated alias for the builtin `float`. To silence this warning, use `float` by itself. Doing this will not modify any behavior and is safe. If you specifically wanted the numpy scalar type, use `np.float64` here.\n",
            "Deprecated in NumPy 1.20; for more details and guidance: https://numpy.org/devdocs/release/1.20.0-notes.html#deprecations\n",
            "  samples=np.array(samples).astype(np.float)\n",
            "<ipython-input-84-eddc9824f38d>:15: DeprecationWarning: `np.float` is a deprecated alias for the builtin `float`. To silence this warning, use `float` by itself. Doing this will not modify any behavior and is safe. If you specifically wanted the numpy scalar type, use `np.float64` here.\n",
            "Deprecated in NumPy 1.20; for more details and guidance: https://numpy.org/devdocs/release/1.20.0-notes.html#deprecations\n",
            "  macc=np.array(macc).astype(np.float)\n",
            "<ipython-input-84-eddc9824f38d>:16: DeprecationWarning: `np.float` is a deprecated alias for the builtin `float`. To silence this warning, use `float` by itself. Doing this will not modify any behavior and is safe. If you specifically wanted the numpy scalar type, use `np.float64` here.\n",
            "Deprecated in NumPy 1.20; for more details and guidance: https://numpy.org/devdocs/release/1.20.0-notes.html#deprecations\n",
            "  samples=np.array(samples).astype(np.float)\n",
            "<ipython-input-84-eddc9824f38d>:15: DeprecationWarning: `np.float` is a deprecated alias for the builtin `float`. To silence this warning, use `float` by itself. Doing this will not modify any behavior and is safe. If you specifically wanted the numpy scalar type, use `np.float64` here.\n",
            "Deprecated in NumPy 1.20; for more details and guidance: https://numpy.org/devdocs/release/1.20.0-notes.html#deprecations\n",
            "  macc=np.array(macc).astype(np.float)\n",
            "<ipython-input-84-eddc9824f38d>:16: DeprecationWarning: `np.float` is a deprecated alias for the builtin `float`. To silence this warning, use `float` by itself. Doing this will not modify any behavior and is safe. If you specifically wanted the numpy scalar type, use `np.float64` here.\n",
            "Deprecated in NumPy 1.20; for more details and guidance: https://numpy.org/devdocs/release/1.20.0-notes.html#deprecations\n",
            "  samples=np.array(samples).astype(np.float)\n",
            "<ipython-input-84-eddc9824f38d>:15: DeprecationWarning: `np.float` is a deprecated alias for the builtin `float`. To silence this warning, use `float` by itself. Doing this will not modify any behavior and is safe. If you specifically wanted the numpy scalar type, use `np.float64` here.\n",
            "Deprecated in NumPy 1.20; for more details and guidance: https://numpy.org/devdocs/release/1.20.0-notes.html#deprecations\n",
            "  macc=np.array(macc).astype(np.float)\n",
            "<ipython-input-84-eddc9824f38d>:16: DeprecationWarning: `np.float` is a deprecated alias for the builtin `float`. To silence this warning, use `float` by itself. Doing this will not modify any behavior and is safe. If you specifically wanted the numpy scalar type, use `np.float64` here.\n",
            "Deprecated in NumPy 1.20; for more details and guidance: https://numpy.org/devdocs/release/1.20.0-notes.html#deprecations\n",
            "  samples=np.array(samples).astype(np.float)\n",
            "<ipython-input-84-eddc9824f38d>:15: DeprecationWarning: `np.float` is a deprecated alias for the builtin `float`. To silence this warning, use `float` by itself. Doing this will not modify any behavior and is safe. If you specifically wanted the numpy scalar type, use `np.float64` here.\n",
            "Deprecated in NumPy 1.20; for more details and guidance: https://numpy.org/devdocs/release/1.20.0-notes.html#deprecations\n",
            "  macc=np.array(macc).astype(np.float)\n",
            "<ipython-input-84-eddc9824f38d>:16: DeprecationWarning: `np.float` is a deprecated alias for the builtin `float`. To silence this warning, use `float` by itself. Doing this will not modify any behavior and is safe. If you specifically wanted the numpy scalar type, use `np.float64` here.\n",
            "Deprecated in NumPy 1.20; for more details and guidance: https://numpy.org/devdocs/release/1.20.0-notes.html#deprecations\n",
            "  samples=np.array(samples).astype(np.float)\n"
          ]
        },
        {
          "data": {
            "image/png": "[encoded data removed]",
            "text/plain": [
              "<Figure size 432x288 with 1 Axes>"
            ]
          },
          "metadata": {
            "needs_background": "light"
          },
          "output_type": "display_data"
        }
      ],
      "source": [
        "import matplotlib.pyplot as plt\n",
        "for g in range(11):\n",
        "  plt.title('ACCURACY')\n",
        "  plt.xlabel('Samples')\n",
        "  plt.ylabel('accuracy')\n",
        "  f=open(acc_list[g], \"r\")\n",
        "  macc=[]\n",
        "  samples=[]\n",
        "  for line in f:\n",
        "    cline=line\n",
        "    if(cline[0].isdigit()):\n",
        "      col=line.split(',')\t\t\t\t\t\t\t\t\t\n",
        "      samples.append(col[0])\n",
        "      macc.append(col[1])\t\n",
        "  macc=np.array(macc).astype(np.float)\n",
        "  samples=np.array(samples).astype(np.float)\n",
        "  plt.plot(samples,macc,label=acc_list[g])\n",
        "  plt.legend()\n"
      ]
    },
    {
      "cell_type": "code",
      "execution_count": null,
      "metadata": {
        "id": "6o2necCx4ZEi"
      },
      "outputs": [],
      "source": [
        "\"\"\"\n",
        "Online Active Learning Procedure of\n",
        "ROALE-DI\n",
        "\n",
        ": while (S. hasNext()) do\n",
        "2: xnew ¼ S. nextInstance()\n",
        "3: p ¼ p þ 1\n",
        "4: if (p<I) then // before array fully filled the first time.\n",
        "5: A½p  1\u0004 ¼ xnew\n",
        "6: else if (p ¼ ¼ I) then // fill the array for the first time.\n",
        "7: A½p  1\u0004 ¼ xnew\n",
        "8: Cs ¼ CreateNewBaseClassifierð1; U; um; I; L; D; wd; DCIR½l\u0004Þ\n",
        "// label all instances in the first block to create stable\n",
        "classifier\n",
        "9: C1 ¼ Cs// create the first dynamic classifier\n",
        "10: else // (p>I) have more instances than I\n",
        "11: i ¼ ðp  1Þ%I// current index for A\n",
        "12: DealInstanceðxnew; i; 6; um; s; UÞ // address instance\n",
        "13: i ¼ ði þ 1Þ%I // i moves circularly\n",
        "14: if (i ¼ ¼ 0) then // the array is filled again\n",
        "15: k ¼ k þ 1\n",
        "16: um ¼ u \u0005 2=L // reset um for UncertaintyStrategy\n",
        "17: Cnew ¼ CreateNewBaseClassifierð\"; U; um; I; L; D; wd; DCIR½l\u0004Þ\n",
        "// create a new dynamic classifier\n",
        "18: if(k>D) then\n",
        "19: Cmin Cnew\n",
        "20: end if\n",
        "21: Update weights according to (3)\n",
        "22: Use (5) calculate the damped class imbalance ratio\n",
        "23: end if\n",
        "24: end if\n",
        "25: end while\n",
        "26: for i ¼ 0 to I-1 do // address the remaining instances in the\n",
        "array\n",
        "27: x ¼ A½i\u0004\n",
        "28: DealInstanceðx; i; 6; um; s; UÞ\n",
        "29: end for\n",
        "\"\"\"\n",
        "from imblearn.over_sampling import SMOTE\n",
        "from sklearn import metrics\n",
        "gen=[hyp_s,hyp_f,sea_s,sea_f,rbf_gr,led_m,tree_s,tree_f,ds_stream,agar,ds_stream] \n",
        "\n",
        "class CircularArray:\n",
        " def __init__(self, size):\n",
        "  self.data = [None for i in range(size)]\n",
        " def append(self, x):\n",
        "  self.data.pop(0)\n",
        "  self.data.append(x)\n",
        " def get(self):\n",
        "  return self.data\n",
        " def set(self,pos,x):\n",
        "   self.data[pos]=x\n",
        "\n",
        "p,i,k,g=0,0,0,0\n",
        "cir=CircularArray(600)\n",
        "threshold= 1\n",
        "labels=np.array(data[\"Protocol\"])\n",
        "stream=gen[g]\n",
        "stream.prepare_for_use()\n",
        "n_samp=1\n",
        "while(stream.has_more_samples() and n_samp<100):\n",
        "  X, Y = stream.next_sample()\n",
        "  p+=1\n",
        "  n_samp+=1\n",
        "  CreateNewBaseClassifier(0.05)\n",
        "  fpr, tpr, thresholds = metrics.roc_curve(real_data[\"Serv1\"], np.array(data[\"Protocol\"]), pos_label=2)\n",
        "  print(fpr, thresholds)\n",
        "  # pred=ht.get_votes_for_instance(real_data)\n",
        "  # print(pred)\n",
        "  if p<Y:\n",
        "    cir.set(p-1,X)\n",
        "  elif p==Y:\n",
        "    cir.set(p-1,X)\n",
        "  else:\n",
        "    i=(p-1)%Y\n",
        "    DealtInstace(i,X,threshold,ht)\n",
        "    i=i+1%Y\n",
        "    if i==0:\n",
        "      k+=1\n",
        "      threshold=threshold*2/600\n",
        "      result=ht.predict_proba(X)\n",
        "      result[0].sort()\n",
        "      len1=len(result[0])\n",
        "      margin=abs(result[0][len1-1]-result[0][len1-2])\n",
        "      # print(\"Margin value:\",margin)\n",
        "      if(margin<threshold):\n",
        "        threshold=threshold*(1-p)\n",
        "        ht=ht.partial_fit(real_data, np.array(data[\"Protocol\"]),sample_weight=[threshold])\n",
        "        # print(\"Model Score\",ht.score(real_data, np.array(data[\"Protocol\"])))"
      ]
    }
  ],
  "metadata": {
    "colab": {
      "provenance": []
    },
    "kernelspec": {
      "display_name": "Python 3",
      "language": "python",
      "name": "python3"
    },
    "language_info": {
      "name": "python",
      "version": "3.9.13 (tags/v3.9.13:6de2ca5, May 17 2022, 16:36:42) [MSC v.1929 64 bit (AMD64)]"
    },
    "vscode": {
      "interpreter": {
        "hash": "93c89eedf5e8789a1cccb8913df7de1de71cd3c59d5214e614ddfbb8d6d5117d"
      }
    }
  },
  "nbformat": 4,
  "nbformat_minor": 0
}
